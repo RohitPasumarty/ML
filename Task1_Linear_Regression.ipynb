{
  "nbformat": 4,
  "nbformat_minor": 0,
  "metadata": {
    "colab": {
      "name": "Task1 Linear Regression.ipynb",
      "provenance": [],
      "authorship_tag": "ABX9TyNhJ9lpJF+opocUwgZvF/jb",
      "include_colab_link": true
    },
    "kernelspec": {
      "name": "python3",
      "display_name": "Python 3"
    },
    "language_info": {
      "name": "python"
    }
  },
  "cells": [
    {
      "cell_type": "markdown",
      "metadata": {
        "id": "view-in-github",
        "colab_type": "text"
      },
      "source": [
        "<a href=\"https://colab.research.google.com/github/RohitPasumarty/ML/blob/main/Task1_Linear_Regression.ipynb\" target=\"_parent\"><img src=\"https://colab.research.google.com/assets/colab-badge.svg\" alt=\"Open In Colab\"/></a>"
      ]
    },
    {
      "cell_type": "markdown",
      "metadata": {
        "id": "YkB9zKsabFPD"
      },
      "source": [
        "## **Importing the Required Libraries**"
      ]
    },
    {
      "cell_type": "code",
      "metadata": {
        "id": "mmMxQpH0bBWg"
      },
      "source": [
        "import pandas as pd\n",
        "import numpy as np\n",
        "import matplotlib.pyplot as plt\n",
        "import seaborn as sns\n",
        "\n",
        "from sklearn.linear_model import LinearRegression\n",
        "from sklearn.model_selection import train_test_split\n",
        "from sklearn.metrics import mean_squared_error, mean_absolute_error"
      ],
      "execution_count": 85,
      "outputs": []
    },
    {
      "cell_type": "markdown",
      "metadata": {
        "id": "nlNT_H8ccB7P"
      },
      "source": [
        "## **Importing data**"
      ]
    },
    {
      "cell_type": "code",
      "metadata": {
        "colab": {
          "base_uri": "https://localhost:8080/",
          "height": 203
        },
        "id": "z-IEtA2xcCUX",
        "outputId": "38245ee8-ff2d-4cc5-9bea-3dc4bd5974a9"
      },
      "source": [
        "df = pd.read_csv('http://bit.ly/w-data')\n",
        "df.head()"
      ],
      "execution_count": 86,
      "outputs": [
        {
          "output_type": "execute_result",
          "data": {
            "text/html": [
              "<div>\n",
              "<style scoped>\n",
              "    .dataframe tbody tr th:only-of-type {\n",
              "        vertical-align: middle;\n",
              "    }\n",
              "\n",
              "    .dataframe tbody tr th {\n",
              "        vertical-align: top;\n",
              "    }\n",
              "\n",
              "    .dataframe thead th {\n",
              "        text-align: right;\n",
              "    }\n",
              "</style>\n",
              "<table border=\"1\" class=\"dataframe\">\n",
              "  <thead>\n",
              "    <tr style=\"text-align: right;\">\n",
              "      <th></th>\n",
              "      <th>Hours</th>\n",
              "      <th>Scores</th>\n",
              "    </tr>\n",
              "  </thead>\n",
              "  <tbody>\n",
              "    <tr>\n",
              "      <th>0</th>\n",
              "      <td>2.5</td>\n",
              "      <td>21</td>\n",
              "    </tr>\n",
              "    <tr>\n",
              "      <th>1</th>\n",
              "      <td>5.1</td>\n",
              "      <td>47</td>\n",
              "    </tr>\n",
              "    <tr>\n",
              "      <th>2</th>\n",
              "      <td>3.2</td>\n",
              "      <td>27</td>\n",
              "    </tr>\n",
              "    <tr>\n",
              "      <th>3</th>\n",
              "      <td>8.5</td>\n",
              "      <td>75</td>\n",
              "    </tr>\n",
              "    <tr>\n",
              "      <th>4</th>\n",
              "      <td>3.5</td>\n",
              "      <td>30</td>\n",
              "    </tr>\n",
              "  </tbody>\n",
              "</table>\n",
              "</div>"
            ],
            "text/plain": [
              "   Hours  Scores\n",
              "0    2.5      21\n",
              "1    5.1      47\n",
              "2    3.2      27\n",
              "3    8.5      75\n",
              "4    3.5      30"
            ]
          },
          "metadata": {
            "tags": []
          },
          "execution_count": 86
        }
      ]
    },
    {
      "cell_type": "markdown",
      "metadata": {
        "id": "WrJ0X2LddZKq"
      },
      "source": [
        "## **Pre Processing Data**"
      ]
    },
    {
      "cell_type": "code",
      "metadata": {
        "id": "zBJqrXxre59B"
      },
      "source": [
        "train,test = train_test_split(df, test_size = 0.2)\n",
        "\n",
        "train_X=train[['Hours']]\n",
        "train_Y=train.Scores\n",
        "\n",
        "test_X=test[['Hours']]\n",
        "test_Y=test.Scores"
      ],
      "execution_count": 79,
      "outputs": []
    },
    {
      "cell_type": "markdown",
      "metadata": {
        "id": "oEu8BpAwf2Dx"
      },
      "source": [
        "## **Plotting the Data**"
      ]
    },
    {
      "cell_type": "code",
      "metadata": {
        "colab": {
          "base_uri": "https://localhost:8080/",
          "height": 279
        },
        "id": "6IU8cvLuf2V5",
        "outputId": "af1554f4-6ca0-44df-f62f-5dec0e077d60"
      },
      "source": [
        "fig = df.plot(kind='scatter',x='Hours',y='Scores',color='red',label='Scores')\n",
        "fig.set_xlabel(\"Hours\")\n",
        "fig.set_ylabel(\"Scores\")\n",
        "\n",
        "fig=plt.gcf()\n",
        "plt.show()"
      ],
      "execution_count": 80,
      "outputs": [
        {
          "output_type": "display_data",
          "data": {
            "image/png": "[encoded data removed]",
            "text/plain": [
              "<Figure size 432x288 with 1 Axes>"
            ]
          },
          "metadata": {
            "tags": [],
            "needs_background": "light"
          }
        }
      ]
    },
    {
      "cell_type": "markdown",
      "metadata": {
        "id": "jSTdhfCOghBJ"
      },
      "source": [
        "## **Training the Data**"
      ]
    },
    {
      "cell_type": "code",
      "metadata": {
        "colab": {
          "base_uri": "https://localhost:8080/",
          "height": 282
        },
        "id": "MkqavT8tggeM",
        "outputId": "f0aca3cd-4e63-4e1c-e8e0-4fb07a025d93"
      },
      "source": [
        "model = LinearRegression() \n",
        "model.fit(train_X,train_Y)\n",
        "print('Y = X*{} + {}'.format(model.coef_[0],model.intercept_))\n",
        "\n",
        "line=model.coef_*X + model.intercept_\n",
        "plt.scatter(df.Hours,df.Scores,color='red')\n",
        "plt.plot(X,line)\n",
        "plt.show()"
      ],
      "execution_count": 97,
      "outputs": [
        {
          "output_type": "stream",
          "text": [
            "Y = X*9.852148962086728 + 1.5692952994480578\n"
          ],
          "name": "stdout"
        },
        {
          "output_type": "display_data",
          "data": {
            "image/png": "[encoded data removed]",
            "text/plain": [
              "<Figure size 432x288 with 1 Axes>"
            ]
          },
          "metadata": {
            "tags": [],
            "needs_background": "light"
          }
        }
      ]
    },
    {
      "cell_type": "markdown",
      "metadata": {
        "id": "8eBP5KIHj8VC"
      },
      "source": [
        "##**Testing the Model**"
      ]
    },
    {
      "cell_type": "code",
      "metadata": {
        "colab": {
          "base_uri": "https://localhost:8080/",
          "height": 203
        },
        "id": "2qDYweM7j8my",
        "outputId": "6132b5c6-a634-432b-e7f6-95037a4b168c"
      },
      "source": [
        "predicted_Y = model.predict(test_X)\n",
        "\n",
        "d=pd.DataFrame({'Actual':test_Y, 'Predicted':predicted_Y})\n",
        "d"
      ],
      "execution_count": 98,
      "outputs": [
        {
          "output_type": "execute_result",
          "data": {
            "text/html": [
              "<div>\n",
              "<style scoped>\n",
              "    .dataframe tbody tr th:only-of-type {\n",
              "        vertical-align: middle;\n",
              "    }\n",
              "\n",
              "    .dataframe tbody tr th {\n",
              "        vertical-align: top;\n",
              "    }\n",
              "\n",
              "    .dataframe thead th {\n",
              "        text-align: right;\n",
              "    }\n",
              "</style>\n",
              "<table border=\"1\" class=\"dataframe\">\n",
              "  <thead>\n",
              "    <tr style=\"text-align: right;\">\n",
              "      <th></th>\n",
              "      <th>Actual</th>\n",
              "      <th>Predicted</th>\n",
              "    </tr>\n",
              "  </thead>\n",
              "  <tbody>\n",
              "    <tr>\n",
              "      <th>18</th>\n",
              "      <td>67</td>\n",
              "      <td>61.667404</td>\n",
              "    </tr>\n",
              "    <tr>\n",
              "      <th>14</th>\n",
              "      <td>17</td>\n",
              "      <td>12.406659</td>\n",
              "    </tr>\n",
              "    <tr>\n",
              "      <th>20</th>\n",
              "      <td>30</td>\n",
              "      <td>28.170097</td>\n",
              "    </tr>\n",
              "    <tr>\n",
              "      <th>15</th>\n",
              "      <td>95</td>\n",
              "      <td>89.253421</td>\n",
              "    </tr>\n",
              "    <tr>\n",
              "      <th>6</th>\n",
              "      <td>88</td>\n",
              "      <td>92.209066</td>\n",
              "    </tr>\n",
              "  </tbody>\n",
              "</table>\n",
              "</div>"
            ],
            "text/plain": [
              "    Actual  Predicted\n",
              "18      67  61.667404\n",
              "14      17  12.406659\n",
              "20      30  28.170097\n",
              "15      95  89.253421\n",
              "6       88  92.209066"
            ]
          },
          "metadata": {
            "tags": []
          },
          "execution_count": 98
        }
      ]
    },
    {
      "cell_type": "markdown",
      "metadata": {
        "id": "4PrCr-tVmSjl"
      },
      "source": [
        "##**Predicting the Score using the Model**"
      ]
    },
    {
      "cell_type": "code",
      "metadata": {
        "colab": {
          "base_uri": "https://localhost:8080/"
        },
        "id": "OKo7vF5qmSvR",
        "outputId": "92c7523a-354b-4541-d67d-5d9408cf88a3"
      },
      "source": [
        "Hours=9.25\n",
        "Score=model.predict(np.array([Hours]).reshape(1,-1))\n",
        "print('No of Hours Studies',Hours)\n",
        "print('Predicted Score',Score[0])"
      ],
      "execution_count": 99,
      "outputs": [
        {
          "output_type": "stream",
          "text": [
            "No of Hours Studies 9.25\n",
            "Predicted Score 92.7016731987503\n"
          ],
          "name": "stdout"
        }
      ]
    },
    {
      "cell_type": "markdown",
      "metadata": {
        "id": "grkfoerRk5LB"
      },
      "source": [
        "## **Grading the Model**"
      ]
    },
    {
      "cell_type": "code",
      "metadata": {
        "colab": {
          "base_uri": "https://localhost:8080/"
        },
        "id": "AeR3U9UTk4gG",
        "outputId": "f0718452-4511-4f4e-cd9b-cb781dcb2cff"
      },
      "source": [
        "print('Mean Absolute Error:', mean_absolute_error(test_Y, predicted_Y))\n",
        "print('Mean Squared Error:', mean_squared_error(test_Y, predicted_Y))"
      ],
      "execution_count": 100,
      "outputs": [
        {
          "output_type": "stream",
          "text": [
            "Mean Absolute Error: 4.342296813124645\n",
            "Mean Squared Error: 20.724661537127382\n"
          ],
          "name": "stdout"
        }
      ]
    }
  ]
}