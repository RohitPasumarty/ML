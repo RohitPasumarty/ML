{
  "nbformat": 4,
  "nbformat_minor": 5,
  "metadata": {
    "kernelspec": {
      "display_name": "Python 3",
      "language": "python",
      "name": "python3"
    },
    "language_info": {
      "codemirror_mode": {
        "name": "ipython",
        "version": 3
      },
      "file_extension": ".py",
      "mimetype": "text/x-python",
      "name": "python",
      "nbconvert_exporter": "python",
      "pygments_lexer": "ipython3",
      "version": "3.7.9"
    },
    "papermill": {
      "default_parameters": {},
      "duration": 16.932427,
      "end_time": "2021-04-05T20:15:37.741311",
      "environment_variables": {},
      "exception": null,
      "input_path": "__notebook__.ipynb",
      "output_path": "__notebook__.ipynb",
      "parameters": {},
      "start_time": "2021-04-05T20:15:20.808884",
      "version": "2.3.2"
    },
    "colab": {
      "name": "loan-prediction.ipynb",
      "provenance": [],
      "collapsed_sections": [],
      "include_colab_link": true
    }
  },
  "cells": [
    {
      "cell_type": "markdown",
      "metadata": {
        "id": "view-in-github",
        "colab_type": "text"
      },
      "source": [
        "<a href=\"https://colab.research.google.com/github/RohitPasumarty/ML/blob/main/loan_prediction.ipynb\" target=\"_parent\"><img src=\"https://colab.research.google.com/assets/colab-badge.svg\" alt=\"Open In Colab\"/></a>"
      ]
    },
    {
      "cell_type": "markdown",
      "metadata": {
        "id": "pEJn_DQBmKTu"
      },
      "source": [
        "## **Loan Prediction**\n",
        "Rohit Pasumarty\n",
        "<br/>Github Link - https://github.com/RohitPasumarty"
      ],
      "id": "pEJn_DQBmKTu"
    },
    {
      "cell_type": "code",
      "metadata": {
        "colab": {
          "base_uri": "https://localhost:8080/"
        },
        "id": "JXiRammJZ3Ib",
        "outputId": "da91ca40-102d-4509-db9b-64e8fc7af1fc"
      },
      "source": [
        "!pip install catboost"
      ],
      "id": "JXiRammJZ3Ib",
      "execution_count": 1,
      "outputs": [
        {
          "output_type": "stream",
          "text": [
            "Collecting catboost\n",
            "\u001b[?25l  Downloading https://files.pythonhosted.org/packages/5a/41/24e14322b9986cf72a8763e0a0a69cc256cf963cf9502c8f0044a62c1ae8/catboost-0.26-cp37-none-manylinux1_x86_64.whl (69.2MB)\n",
            "\u001b[K     |████████████████████████████████| 69.2MB 41kB/s \n",
            "\u001b[?25hRequirement already satisfied: matplotlib in /usr/local/lib/python3.7/dist-packages (from catboost) (3.2.2)\n",
            "Requirement already satisfied: pandas>=0.24.0 in /usr/local/lib/python3.7/dist-packages (from catboost) (1.1.5)\n",
            "Requirement already satisfied: graphviz in /usr/local/lib/python3.7/dist-packages (from catboost) (0.10.1)\n",
            "Requirement already satisfied: plotly in /usr/local/lib/python3.7/dist-packages (from catboost) (4.4.1)\n",
            "Requirement already satisfied: numpy>=1.16.0 in /usr/local/lib/python3.7/dist-packages (from catboost) (1.19.5)\n",
            "Requirement already satisfied: scipy in /usr/local/lib/python3.7/dist-packages (from catboost) (1.4.1)\n",
            "Requirement already satisfied: six in /usr/local/lib/python3.7/dist-packages (from catboost) (1.15.0)\n",
            "Requirement already satisfied: python-dateutil>=2.1 in /usr/local/lib/python3.7/dist-packages (from matplotlib->catboost) (2.8.1)\n",
            "Requirement already satisfied: pyparsing!=2.0.4,!=2.1.2,!=2.1.6,>=2.0.1 in /usr/local/lib/python3.7/dist-packages (from matplotlib->catboost) (2.4.7)\n",
            "Requirement already satisfied: kiwisolver>=1.0.1 in /usr/local/lib/python3.7/dist-packages (from matplotlib->catboost) (1.3.1)\n",
            "Requirement already satisfied: cycler>=0.10 in /usr/local/lib/python3.7/dist-packages (from matplotlib->catboost) (0.10.0)\n",
            "Requirement already satisfied: pytz>=2017.2 in /usr/local/lib/python3.7/dist-packages (from pandas>=0.24.0->catboost) (2018.9)\n",
            "Requirement already satisfied: retrying>=1.3.3 in /usr/local/lib/python3.7/dist-packages (from plotly->catboost) (1.3.3)\n",
            "Installing collected packages: catboost\n",
            "Successfully installed catboost-0.26\n"
          ],
          "name": "stdout"
        }
      ]
    },
    {
      "cell_type": "code",
      "metadata": {
        "_cell_guid": "b1076dfc-b9ad-4769-8c92-a6c4dae69d19",
        "_uuid": "8f2839f25d086af736a60e9eeb907d3b93b6e0e5",
        "execution": {
          "iopub.execute_input": "2021-04-05T20:15:27.541953Z",
          "iopub.status.busy": "2021-04-05T20:15:27.540608Z",
          "iopub.status.idle": "2021-04-05T20:15:27.557442Z",
          "shell.execute_reply": "2021-04-05T20:15:27.556747Z"
        },
        "papermill": {
          "duration": 0.05295,
          "end_time": "2021-04-05T20:15:27.557655",
          "exception": false,
          "start_time": "2021-04-05T20:15:27.504705",
          "status": "completed"
        },
        "tags": [],
        "id": "final-bridges"
      },
      "source": [
        "import pandas as pd\n",
        "import numpy as np\n",
        "import matplotlib.pyplot as plt\n",
        "import seaborn as sns\n",
        "\n",
        "\n",
        "from sklearn.linear_model import LogisticRegression\n",
        "from sklearn.tree import DecisionTreeClassifier\n",
        "\n",
        "\n",
        "from sklearn.preprocessing import StandardScaler\n",
        "from sklearn.preprocessing import LabelEncoder\n",
        "from sklearn.model_selection import train_test_split\n",
        "from sklearn.model_selection import cross_val_score\n",
        "\n",
        "from sklearn.metrics import confusion_matrix, accuracy_score, mean_squared_error\n",
        "from sklearn.metrics import precision_score, recall_score, f1_score"
      ],
      "id": "final-bridges",
      "execution_count": 105,
      "outputs": []
    },
    {
      "cell_type": "markdown",
      "metadata": {
        "papermill": {
          "duration": 0.030794,
          "end_time": "2021-04-05T20:15:27.684604",
          "exception": false,
          "start_time": "2021-04-05T20:15:27.653810",
          "status": "completed"
        },
        "tags": [],
        "id": "confident-culture"
      },
      "source": [
        "## Loading The Dataset"
      ],
      "id": "confident-culture"
    },
    {
      "cell_type": "code",
      "metadata": {
        "execution": {
          "iopub.execute_input": "2021-04-05T20:15:27.752336Z",
          "iopub.status.busy": "2021-04-05T20:15:27.751597Z",
          "iopub.status.idle": "2021-04-05T20:15:27.803708Z",
          "shell.execute_reply": "2021-04-05T20:15:27.803110Z"
        },
        "papermill": {
          "duration": 0.088004,
          "end_time": "2021-04-05T20:15:27.803883",
          "exception": false,
          "start_time": "2021-04-05T20:15:27.715879",
          "status": "completed"
        },
        "tags": [],
        "colab": {
          "base_uri": "https://localhost:8080/",
          "height": 203
        },
        "id": "encouraging-services",
        "outputId": "da87bf31-6c7b-4faf-ba97-2b8bf3e3c4aa"
      },
      "source": [
        "df=pd.read_csv('train.csv')\n",
        "df.head()"
      ],
      "id": "encouraging-services",
      "execution_count": 108,
      "outputs": [
        {
          "output_type": "execute_result",
          "data": {
            "text/html": [
              "<div>\n",
              "<style scoped>\n",
              "    .dataframe tbody tr th:only-of-type {\n",
              "        vertical-align: middle;\n",
              "    }\n",
              "\n",
              "    .dataframe tbody tr th {\n",
              "        vertical-align: top;\n",
              "    }\n",
              "\n",
              "    .dataframe thead th {\n",
              "        text-align: right;\n",
              "    }\n",
              "</style>\n",
              "<table border=\"1\" class=\"dataframe\">\n",
              "  <thead>\n",
              "    <tr style=\"text-align: right;\">\n",
              "      <th></th>\n",
              "      <th>Loan_ID</th>\n",
              "      <th>Gender</th>\n",
              "      <th>Married</th>\n",
              "      <th>Dependents</th>\n",
              "      <th>Education</th>\n",
              "      <th>Self_Employed</th>\n",
              "      <th>ApplicantIncome</th>\n",
              "      <th>CoapplicantIncome</th>\n",
              "      <th>LoanAmount</th>\n",
              "      <th>Loan_Amount_Term</th>\n",
              "      <th>Credit_History</th>\n",
              "      <th>Property_Area</th>\n",
              "      <th>Loan_Status</th>\n",
              "    </tr>\n",
              "  </thead>\n",
              "  <tbody>\n",
              "    <tr>\n",
              "      <th>0</th>\n",
              "      <td>LP001002</td>\n",
              "      <td>Male</td>\n",
              "      <td>No</td>\n",
              "      <td>0</td>\n",
              "      <td>Graduate</td>\n",
              "      <td>No</td>\n",
              "      <td>5849</td>\n",
              "      <td>0.0</td>\n",
              "      <td>NaN</td>\n",
              "      <td>360.0</td>\n",
              "      <td>1.0</td>\n",
              "      <td>Urban</td>\n",
              "      <td>Y</td>\n",
              "    </tr>\n",
              "    <tr>\n",
              "      <th>1</th>\n",
              "      <td>LP001003</td>\n",
              "      <td>Male</td>\n",
              "      <td>Yes</td>\n",
              "      <td>1</td>\n",
              "      <td>Graduate</td>\n",
              "      <td>No</td>\n",
              "      <td>4583</td>\n",
              "      <td>1508.0</td>\n",
              "      <td>128.0</td>\n",
              "      <td>360.0</td>\n",
              "      <td>1.0</td>\n",
              "      <td>Rural</td>\n",
              "      <td>N</td>\n",
              "    </tr>\n",
              "    <tr>\n",
              "      <th>2</th>\n",
              "      <td>LP001005</td>\n",
              "      <td>Male</td>\n",
              "      <td>Yes</td>\n",
              "      <td>0</td>\n",
              "      <td>Graduate</td>\n",
              "      <td>Yes</td>\n",
              "      <td>3000</td>\n",
              "      <td>0.0</td>\n",
              "      <td>66.0</td>\n",
              "      <td>360.0</td>\n",
              "      <td>1.0</td>\n",
              "      <td>Urban</td>\n",
              "      <td>Y</td>\n",
              "    </tr>\n",
              "    <tr>\n",
              "      <th>3</th>\n",
              "      <td>LP001006</td>\n",
              "      <td>Male</td>\n",
              "      <td>Yes</td>\n",
              "      <td>0</td>\n",
              "      <td>Not Graduate</td>\n",
              "      <td>No</td>\n",
              "      <td>2583</td>\n",
              "      <td>2358.0</td>\n",
              "      <td>120.0</td>\n",
              "      <td>360.0</td>\n",
              "      <td>1.0</td>\n",
              "      <td>Urban</td>\n",
              "      <td>Y</td>\n",
              "    </tr>\n",
              "    <tr>\n",
              "      <th>4</th>\n",
              "      <td>LP001008</td>\n",
              "      <td>Male</td>\n",
              "      <td>No</td>\n",
              "      <td>0</td>\n",
              "      <td>Graduate</td>\n",
              "      <td>No</td>\n",
              "      <td>6000</td>\n",
              "      <td>0.0</td>\n",
              "      <td>141.0</td>\n",
              "      <td>360.0</td>\n",
              "      <td>1.0</td>\n",
              "      <td>Urban</td>\n",
              "      <td>Y</td>\n",
              "    </tr>\n",
              "  </tbody>\n",
              "</table>\n",
              "</div>"
            ],
            "text/plain": [
              "    Loan_ID Gender Married  ... Credit_History Property_Area Loan_Status\n",
              "0  LP001002   Male      No  ...            1.0         Urban           Y\n",
              "1  LP001003   Male     Yes  ...            1.0         Rural           N\n",
              "2  LP001005   Male     Yes  ...            1.0         Urban           Y\n",
              "3  LP001006   Male     Yes  ...            1.0         Urban           Y\n",
              "4  LP001008   Male      No  ...            1.0         Urban           Y\n",
              "\n",
              "[5 rows x 13 columns]"
            ]
          },
          "metadata": {
            "tags": []
          },
          "execution_count": 108
        }
      ]
    },
    {
      "cell_type": "code",
      "metadata": {
        "execution": {
          "iopub.execute_input": "2021-04-05T20:15:27.884088Z",
          "iopub.status.busy": "2021-04-05T20:15:27.880056Z",
          "iopub.status.idle": "2021-04-05T20:15:27.895828Z",
          "shell.execute_reply": "2021-04-05T20:15:27.896842Z"
        },
        "papermill": {
          "duration": 0.060825,
          "end_time": "2021-04-05T20:15:27.897116",
          "exception": false,
          "start_time": "2021-04-05T20:15:27.836291",
          "status": "completed"
        },
        "tags": [],
        "colab": {
          "base_uri": "https://localhost:8080/"
        },
        "id": "judicial-norman",
        "outputId": "71f4a2ba-b1d2-41a8-cfca-fc0bd5bf4dbf"
      },
      "source": [
        "df.info()"
      ],
      "id": "judicial-norman",
      "execution_count": 4,
      "outputs": [
        {
          "output_type": "stream",
          "text": [
            "<class 'pandas.core.frame.DataFrame'>\n",
            "RangeIndex: 614 entries, 0 to 613\n",
            "Data columns (total 13 columns):\n",
            " #   Column             Non-Null Count  Dtype  \n",
            "---  ------             --------------  -----  \n",
            " 0   Loan_ID            614 non-null    object \n",
            " 1   Gender             601 non-null    object \n",
            " 2   Married            611 non-null    object \n",
            " 3   Dependents         599 non-null    object \n",
            " 4   Education          614 non-null    object \n",
            " 5   Self_Employed      582 non-null    object \n",
            " 6   ApplicantIncome    614 non-null    int64  \n",
            " 7   CoapplicantIncome  614 non-null    float64\n",
            " 8   LoanAmount         592 non-null    float64\n",
            " 9   Loan_Amount_Term   600 non-null    float64\n",
            " 10  Credit_History     564 non-null    float64\n",
            " 11  Property_Area      614 non-null    object \n",
            " 12  Loan_Status        614 non-null    object \n",
            "dtypes: float64(4), int64(1), object(8)\n",
            "memory usage: 62.5+ KB\n"
          ],
          "name": "stdout"
        }
      ]
    },
    {
      "cell_type": "code",
      "metadata": {
        "execution": {
          "iopub.execute_input": "2021-04-05T20:15:27.973017Z",
          "iopub.status.busy": "2021-04-05T20:15:27.972344Z",
          "iopub.status.idle": "2021-04-05T20:15:27.997018Z",
          "shell.execute_reply": "2021-04-05T20:15:27.997519Z"
        },
        "papermill": {
          "duration": 0.067304,
          "end_time": "2021-04-05T20:15:27.997712",
          "exception": false,
          "start_time": "2021-04-05T20:15:27.930408",
          "status": "completed"
        },
        "tags": [],
        "colab": {
          "base_uri": "https://localhost:8080/",
          "height": 295
        },
        "id": "reserved-stranger",
        "outputId": "28b956d8-24ac-4b9c-a8a7-6ca058d00a0f"
      },
      "source": [
        "df.describe()"
      ],
      "id": "reserved-stranger",
      "execution_count": 5,
      "outputs": [
        {
          "output_type": "execute_result",
          "data": {
            "text/html": [
              "<div>\n",
              "<style scoped>\n",
              "    .dataframe tbody tr th:only-of-type {\n",
              "        vertical-align: middle;\n",
              "    }\n",
              "\n",
              "    .dataframe tbody tr th {\n",
              "        vertical-align: top;\n",
              "    }\n",
              "\n",
              "    .dataframe thead th {\n",
              "        text-align: right;\n",
              "    }\n",
              "</style>\n",
              "<table border=\"1\" class=\"dataframe\">\n",
              "  <thead>\n",
              "    <tr style=\"text-align: right;\">\n",
              "      <th></th>\n",
              "      <th>ApplicantIncome</th>\n",
              "      <th>CoapplicantIncome</th>\n",
              "      <th>LoanAmount</th>\n",
              "      <th>Loan_Amount_Term</th>\n",
              "      <th>Credit_History</th>\n",
              "    </tr>\n",
              "  </thead>\n",
              "  <tbody>\n",
              "    <tr>\n",
              "      <th>count</th>\n",
              "      <td>614.000000</td>\n",
              "      <td>614.000000</td>\n",
              "      <td>592.000000</td>\n",
              "      <td>600.00000</td>\n",
              "      <td>564.000000</td>\n",
              "    </tr>\n",
              "    <tr>\n",
              "      <th>mean</th>\n",
              "      <td>5403.459283</td>\n",
              "      <td>1621.245798</td>\n",
              "      <td>146.412162</td>\n",
              "      <td>342.00000</td>\n",
              "      <td>0.842199</td>\n",
              "    </tr>\n",
              "    <tr>\n",
              "      <th>std</th>\n",
              "      <td>6109.041673</td>\n",
              "      <td>2926.248369</td>\n",
              "      <td>85.587325</td>\n",
              "      <td>65.12041</td>\n",
              "      <td>0.364878</td>\n",
              "    </tr>\n",
              "    <tr>\n",
              "      <th>min</th>\n",
              "      <td>150.000000</td>\n",
              "      <td>0.000000</td>\n",
              "      <td>9.000000</td>\n",
              "      <td>12.00000</td>\n",
              "      <td>0.000000</td>\n",
              "    </tr>\n",
              "    <tr>\n",
              "      <th>25%</th>\n",
              "      <td>2877.500000</td>\n",
              "      <td>0.000000</td>\n",
              "      <td>100.000000</td>\n",
              "      <td>360.00000</td>\n",
              "      <td>1.000000</td>\n",
              "    </tr>\n",
              "    <tr>\n",
              "      <th>50%</th>\n",
              "      <td>3812.500000</td>\n",
              "      <td>1188.500000</td>\n",
              "      <td>128.000000</td>\n",
              "      <td>360.00000</td>\n",
              "      <td>1.000000</td>\n",
              "    </tr>\n",
              "    <tr>\n",
              "      <th>75%</th>\n",
              "      <td>5795.000000</td>\n",
              "      <td>2297.250000</td>\n",
              "      <td>168.000000</td>\n",
              "      <td>360.00000</td>\n",
              "      <td>1.000000</td>\n",
              "    </tr>\n",
              "    <tr>\n",
              "      <th>max</th>\n",
              "      <td>81000.000000</td>\n",
              "      <td>41667.000000</td>\n",
              "      <td>700.000000</td>\n",
              "      <td>480.00000</td>\n",
              "      <td>1.000000</td>\n",
              "    </tr>\n",
              "  </tbody>\n",
              "</table>\n",
              "</div>"
            ],
            "text/plain": [
              "       ApplicantIncome  CoapplicantIncome  ...  Loan_Amount_Term  Credit_History\n",
              "count       614.000000         614.000000  ...         600.00000      564.000000\n",
              "mean       5403.459283        1621.245798  ...         342.00000        0.842199\n",
              "std        6109.041673        2926.248369  ...          65.12041        0.364878\n",
              "min         150.000000           0.000000  ...          12.00000        0.000000\n",
              "25%        2877.500000           0.000000  ...         360.00000        1.000000\n",
              "50%        3812.500000        1188.500000  ...         360.00000        1.000000\n",
              "75%        5795.000000        2297.250000  ...         360.00000        1.000000\n",
              "max       81000.000000       41667.000000  ...         480.00000        1.000000\n",
              "\n",
              "[8 rows x 5 columns]"
            ]
          },
          "metadata": {
            "tags": []
          },
          "execution_count": 5
        }
      ]
    },
    {
      "cell_type": "code",
      "metadata": {
        "execution": {
          "iopub.execute_input": "2021-04-05T20:15:28.071773Z",
          "iopub.status.busy": "2021-04-05T20:15:28.070585Z",
          "iopub.status.idle": "2021-04-05T20:15:28.075584Z",
          "shell.execute_reply": "2021-04-05T20:15:28.075009Z"
        },
        "papermill": {
          "duration": 0.044562,
          "end_time": "2021-04-05T20:15:28.075736",
          "exception": false,
          "start_time": "2021-04-05T20:15:28.031174",
          "status": "completed"
        },
        "tags": [],
        "colab": {
          "base_uri": "https://localhost:8080/"
        },
        "id": "perceived-parker",
        "outputId": "a19a0a90-683b-4549-b03c-cc78b7c1dd4f"
      },
      "source": [
        "df.shape"
      ],
      "id": "perceived-parker",
      "execution_count": 6,
      "outputs": [
        {
          "output_type": "execute_result",
          "data": {
            "text/plain": [
              "(614, 13)"
            ]
          },
          "metadata": {
            "tags": []
          },
          "execution_count": 6
        }
      ]
    },
    {
      "cell_type": "markdown",
      "metadata": {
        "papermill": {
          "duration": 0.033768,
          "end_time": "2021-04-05T20:15:28.143407",
          "exception": false,
          "start_time": "2021-04-05T20:15:28.109639",
          "status": "completed"
        },
        "tags": [],
        "id": "friendly-rogers"
      },
      "source": [
        "## Exploratory Data Analysis and Preprocessing of DataSets"
      ],
      "id": "friendly-rogers"
    },
    {
      "cell_type": "code",
      "metadata": {
        "colab": {
          "base_uri": "https://localhost:8080/"
        },
        "id": "nlwA_k13bxKB",
        "outputId": "9431db1a-79d0-4d50-9504-8579765405ca"
      },
      "source": [
        "df.columns"
      ],
      "id": "nlwA_k13bxKB",
      "execution_count": 7,
      "outputs": [
        {
          "output_type": "execute_result",
          "data": {
            "text/plain": [
              "Index(['Loan_ID', 'Gender', 'Married', 'Dependents', 'Education',\n",
              "       'Self_Employed', 'ApplicantIncome', 'CoapplicantIncome', 'LoanAmount',\n",
              "       'Loan_Amount_Term', 'Credit_History', 'Property_Area', 'Loan_Status'],\n",
              "      dtype='object')"
            ]
          },
          "metadata": {
            "tags": []
          },
          "execution_count": 7
        }
      ]
    },
    {
      "cell_type": "code",
      "metadata": {
        "colab": {
          "base_uri": "https://localhost:8080/"
        },
        "id": "dG3QLyR1cAZO",
        "outputId": "36beb62e-af9c-4fd4-f564-1458525a6089"
      },
      "source": [
        "df.dtypes"
      ],
      "id": "dG3QLyR1cAZO",
      "execution_count": 8,
      "outputs": [
        {
          "output_type": "execute_result",
          "data": {
            "text/plain": [
              "Loan_ID               object\n",
              "Gender                object\n",
              "Married               object\n",
              "Dependents            object\n",
              "Education             object\n",
              "Self_Employed         object\n",
              "ApplicantIncome        int64\n",
              "CoapplicantIncome    float64\n",
              "LoanAmount           float64\n",
              "Loan_Amount_Term     float64\n",
              "Credit_History       float64\n",
              "Property_Area         object\n",
              "Loan_Status           object\n",
              "dtype: object"
            ]
          },
          "metadata": {
            "tags": []
          },
          "execution_count": 8
        }
      ]
    },
    {
      "cell_type": "code",
      "metadata": {
        "execution": {
          "iopub.execute_input": "2021-04-05T20:15:28.221142Z",
          "iopub.status.busy": "2021-04-05T20:15:28.220321Z",
          "iopub.status.idle": "2021-04-05T20:15:28.223584Z",
          "shell.execute_reply": "2021-04-05T20:15:28.224121Z"
        },
        "papermill": {
          "duration": 0.046958,
          "end_time": "2021-04-05T20:15:28.224321",
          "exception": false,
          "start_time": "2021-04-05T20:15:28.177363",
          "status": "completed"
        },
        "tags": [],
        "colab": {
          "base_uri": "https://localhost:8080/"
        },
        "id": "advance-sculpture",
        "outputId": "e910c0c9-1946-4102-8bbe-9ca4235138c3"
      },
      "source": [
        "df.isnull().any()"
      ],
      "id": "advance-sculpture",
      "execution_count": 9,
      "outputs": [
        {
          "output_type": "execute_result",
          "data": {
            "text/plain": [
              "Loan_ID              False\n",
              "Gender                True\n",
              "Married               True\n",
              "Dependents            True\n",
              "Education            False\n",
              "Self_Employed         True\n",
              "ApplicantIncome      False\n",
              "CoapplicantIncome    False\n",
              "LoanAmount            True\n",
              "Loan_Amount_Term      True\n",
              "Credit_History        True\n",
              "Property_Area        False\n",
              "Loan_Status          False\n",
              "dtype: bool"
            ]
          },
          "metadata": {
            "tags": []
          },
          "execution_count": 9
        }
      ]
    },
    {
      "cell_type": "code",
      "metadata": {
        "execution": {
          "iopub.execute_input": "2021-04-05T20:15:28.297916Z",
          "iopub.status.busy": "2021-04-05T20:15:28.297087Z",
          "iopub.status.idle": "2021-04-05T20:15:28.305804Z",
          "shell.execute_reply": "2021-04-05T20:15:28.306379Z"
        },
        "papermill": {
          "duration": 0.047652,
          "end_time": "2021-04-05T20:15:28.306557",
          "exception": false,
          "start_time": "2021-04-05T20:15:28.258905",
          "status": "completed"
        },
        "tags": [],
        "colab": {
          "base_uri": "https://localhost:8080/"
        },
        "id": "after-magnet",
        "outputId": "08ef902c-29ab-49ed-8b8d-b322035ed549"
      },
      "source": [
        "df.isnull().sum()"
      ],
      "id": "after-magnet",
      "execution_count": 10,
      "outputs": [
        {
          "output_type": "execute_result",
          "data": {
            "text/plain": [
              "Loan_ID               0\n",
              "Gender               13\n",
              "Married               3\n",
              "Dependents           15\n",
              "Education             0\n",
              "Self_Employed        32\n",
              "ApplicantIncome       0\n",
              "CoapplicantIncome     0\n",
              "LoanAmount           22\n",
              "Loan_Amount_Term     14\n",
              "Credit_History       50\n",
              "Property_Area         0\n",
              "Loan_Status           0\n",
              "dtype: int64"
            ]
          },
          "metadata": {
            "tags": []
          },
          "execution_count": 10
        }
      ]
    },
    {
      "cell_type": "markdown",
      "metadata": {
        "id": "L0Tmw5-9ctpf"
      },
      "source": [
        "## **Univariate Analysis** "
      ],
      "id": "L0Tmw5-9ctpf"
    },
    {
      "cell_type": "markdown",
      "metadata": {
        "id": "A6R19r-yczcE"
      },
      "source": [
        "### Categorical and Ordinal Features"
      ],
      "id": "A6R19r-yczcE"
    },
    {
      "cell_type": "code",
      "metadata": {
        "execution": {
          "iopub.execute_input": "2021-04-05T20:15:28.703532Z",
          "iopub.status.busy": "2021-04-05T20:15:28.702831Z",
          "iopub.status.idle": "2021-04-05T20:15:29.804284Z",
          "shell.execute_reply": "2021-04-05T20:15:29.803092Z"
        },
        "papermill": {
          "duration": 1.141416,
          "end_time": "2021-04-05T20:15:29.804460",
          "exception": false,
          "start_time": "2021-04-05T20:15:28.663044",
          "status": "completed"
        },
        "tags": [],
        "id": "stainless-burner",
        "colab": {
          "base_uri": "https://localhost:8080/",
          "height": 350
        },
        "outputId": "7288c9a1-aee3-4281-c492-4252e2daf9eb"
      },
      "source": [
        "sns.countplot(df['Gender'])"
      ],
      "id": "stainless-burner",
      "execution_count": 11,
      "outputs": [
        {
          "output_type": "stream",
          "text": [
            "/usr/local/lib/python3.7/dist-packages/seaborn/_decorators.py:43: FutureWarning: Pass the following variable as a keyword arg: x. From version 0.12, the only valid positional argument will be `data`, and passing other arguments without an explicit keyword will result in an error or misinterpretation.\n",
            "  FutureWarning\n"
          ],
          "name": "stderr"
        },
        {
          "output_type": "execute_result",
          "data": {
            "text/plain": [
              "<matplotlib.axes._subplots.AxesSubplot at 0x7fc7360b3d90>"
            ]
          },
          "metadata": {
            "tags": []
          },
          "execution_count": 11
        },
        {
          "output_type": "display_data",
          "data": {
            "image/png": "[encoded data removed]",
            "text/plain": [
              "<Figure size 432x288 with 1 Axes>"
            ]
          },
          "metadata": {
            "tags": [],
            "needs_background": "light"
          }
        }
      ]
    },
    {
      "cell_type": "code",
      "metadata": {
        "colab": {
          "base_uri": "https://localhost:8080/",
          "height": 350
        },
        "id": "F5o6EmSDdQLN",
        "outputId": "f0f246a9-d867-4d90-9534-8486237e4bec"
      },
      "source": [
        "sns.countplot(df['Married'])"
      ],
      "id": "F5o6EmSDdQLN",
      "execution_count": 12,
      "outputs": [
        {
          "output_type": "stream",
          "text": [
            "/usr/local/lib/python3.7/dist-packages/seaborn/_decorators.py:43: FutureWarning: Pass the following variable as a keyword arg: x. From version 0.12, the only valid positional argument will be `data`, and passing other arguments without an explicit keyword will result in an error or misinterpretation.\n",
            "  FutureWarning\n"
          ],
          "name": "stderr"
        },
        {
          "output_type": "execute_result",
          "data": {
            "text/plain": [
              "<matplotlib.axes._subplots.AxesSubplot at 0x7fc735f9f9d0>"
            ]
          },
          "metadata": {
            "tags": []
          },
          "execution_count": 12
        },
        {
          "output_type": "display_data",
          "data": {
            "image/png": "[encoded data removed]",
            "text/plain": [
              "<Figure size 432x288 with 1 Axes>"
            ]
          },
          "metadata": {
            "tags": [],
            "needs_background": "light"
          }
        }
      ]
    },
    {
      "cell_type": "code",
      "metadata": {
        "colab": {
          "base_uri": "https://localhost:8080/",
          "height": 350
        },
        "id": "6UIxOdH_dUg6",
        "outputId": "343b1f67-a5c4-4acd-af93-34bef72aca35"
      },
      "source": [
        "sns.countplot(df['Self_Employed'])"
      ],
      "id": "6UIxOdH_dUg6",
      "execution_count": 13,
      "outputs": [
        {
          "output_type": "stream",
          "text": [
            "/usr/local/lib/python3.7/dist-packages/seaborn/_decorators.py:43: FutureWarning: Pass the following variable as a keyword arg: x. From version 0.12, the only valid positional argument will be `data`, and passing other arguments without an explicit keyword will result in an error or misinterpretation.\n",
            "  FutureWarning\n"
          ],
          "name": "stderr"
        },
        {
          "output_type": "execute_result",
          "data": {
            "text/plain": [
              "<matplotlib.axes._subplots.AxesSubplot at 0x7fc735accfd0>"
            ]
          },
          "metadata": {
            "tags": []
          },
          "execution_count": 13
        },
        {
          "output_type": "display_data",
          "data": {
            "image/png": "[encoded data removed]",
            "text/plain": [
              "<Figure size 432x288 with 1 Axes>"
            ]
          },
          "metadata": {
            "tags": [],
            "needs_background": "light"
          }
        }
      ]
    },
    {
      "cell_type": "code",
      "metadata": {
        "colab": {
          "base_uri": "https://localhost:8080/",
          "height": 350
        },
        "id": "lmvQi06idb11",
        "outputId": "d8addda5-57a3-465c-95d4-65d955689340"
      },
      "source": [
        "sns.countplot(df['Credit_History'])"
      ],
      "id": "lmvQi06idb11",
      "execution_count": 14,
      "outputs": [
        {
          "output_type": "stream",
          "text": [
            "/usr/local/lib/python3.7/dist-packages/seaborn/_decorators.py:43: FutureWarning: Pass the following variable as a keyword arg: x. From version 0.12, the only valid positional argument will be `data`, and passing other arguments without an explicit keyword will result in an error or misinterpretation.\n",
            "  FutureWarning\n"
          ],
          "name": "stderr"
        },
        {
          "output_type": "execute_result",
          "data": {
            "text/plain": [
              "<matplotlib.axes._subplots.AxesSubplot at 0x7fc735aa6150>"
            ]
          },
          "metadata": {
            "tags": []
          },
          "execution_count": 14
        },
        {
          "output_type": "display_data",
          "data": {
            "image/png": "[encoded data removed]",
            "text/plain": [
              "<Figure size 432x288 with 1 Axes>"
            ]
          },
          "metadata": {
            "tags": [],
            "needs_background": "light"
          }
        }
      ]
    },
    {
      "cell_type": "code",
      "metadata": {
        "execution": {
          "iopub.execute_input": "2021-04-05T20:15:29.913902Z",
          "iopub.status.busy": "2021-04-05T20:15:29.886909Z",
          "iopub.status.idle": "2021-04-05T20:15:30.034626Z",
          "shell.execute_reply": "2021-04-05T20:15:30.034011Z"
        },
        "papermill": {
          "duration": 0.193077,
          "end_time": "2021-04-05T20:15:30.034774",
          "exception": false,
          "start_time": "2021-04-05T20:15:29.841697",
          "status": "completed"
        },
        "tags": [],
        "colab": {
          "base_uri": "https://localhost:8080/",
          "height": 350
        },
        "id": "environmental-offset",
        "outputId": "72d430e9-fffe-421f-9248-77a6f370f372"
      },
      "source": [
        "sns.countplot(df['Dependents'])"
      ],
      "id": "environmental-offset",
      "execution_count": 15,
      "outputs": [
        {
          "output_type": "stream",
          "text": [
            "/usr/local/lib/python3.7/dist-packages/seaborn/_decorators.py:43: FutureWarning: Pass the following variable as a keyword arg: x. From version 0.12, the only valid positional argument will be `data`, and passing other arguments without an explicit keyword will result in an error or misinterpretation.\n",
            "  FutureWarning\n"
          ],
          "name": "stderr"
        },
        {
          "output_type": "execute_result",
          "data": {
            "text/plain": [
              "<matplotlib.axes._subplots.AxesSubplot at 0x7fc735a7db10>"
            ]
          },
          "metadata": {
            "tags": []
          },
          "execution_count": 15
        },
        {
          "output_type": "display_data",
          "data": {
            "image/png": "[encoded data removed]",
            "text/plain": [
              "<Figure size 432x288 with 1 Axes>"
            ]
          },
          "metadata": {
            "tags": [],
            "needs_background": "light"
          }
        }
      ]
    },
    {
      "cell_type": "code",
      "metadata": {
        "execution": {
          "iopub.execute_input": "2021-04-05T20:15:30.120479Z",
          "iopub.status.busy": "2021-04-05T20:15:30.119630Z",
          "iopub.status.idle": "2021-04-05T20:15:30.233983Z",
          "shell.execute_reply": "2021-04-05T20:15:30.234488Z"
        },
        "papermill": {
          "duration": 0.160973,
          "end_time": "2021-04-05T20:15:30.234675",
          "exception": false,
          "start_time": "2021-04-05T20:15:30.073702",
          "status": "completed"
        },
        "tags": [],
        "id": "modern-diana",
        "colab": {
          "base_uri": "https://localhost:8080/",
          "height": 353
        },
        "outputId": "a8314785-ef26-425a-d6d5-7e1a1b62c2c2"
      },
      "source": [
        "sns.countplot(df['Education'])"
      ],
      "id": "modern-diana",
      "execution_count": 16,
      "outputs": [
        {
          "output_type": "stream",
          "text": [
            "/usr/local/lib/python3.7/dist-packages/seaborn/_decorators.py:43: FutureWarning: Pass the following variable as a keyword arg: x. From version 0.12, the only valid positional argument will be `data`, and passing other arguments without an explicit keyword will result in an error or misinterpretation.\n",
            "  FutureWarning\n"
          ],
          "name": "stderr"
        },
        {
          "output_type": "execute_result",
          "data": {
            "text/plain": [
              "<matplotlib.axes._subplots.AxesSubplot at 0x7fc7359ead10>"
            ]
          },
          "metadata": {
            "tags": []
          },
          "execution_count": 16
        },
        {
          "output_type": "display_data",
          "data": {
            "image/png": "[encoded data removed]",
            "text/plain": [
              "<Figure size 432x288 with 1 Axes>"
            ]
          },
          "metadata": {
            "tags": [],
            "needs_background": "light"
          }
        }
      ]
    },
    {
      "cell_type": "code",
      "metadata": {
        "execution": {
          "iopub.execute_input": "2021-04-05T20:15:30.528146Z",
          "iopub.status.busy": "2021-04-05T20:15:30.527421Z",
          "iopub.status.idle": "2021-04-05T20:15:30.642828Z",
          "shell.execute_reply": "2021-04-05T20:15:30.642125Z"
        },
        "papermill": {
          "duration": 0.165426,
          "end_time": "2021-04-05T20:15:30.642972",
          "exception": false,
          "start_time": "2021-04-05T20:15:30.477546",
          "status": "completed"
        },
        "tags": [],
        "id": "hydraulic-arkansas",
        "colab": {
          "base_uri": "https://localhost:8080/",
          "height": 350
        },
        "outputId": "7d832294-6cdb-4d0e-8496-2e0d4576648e"
      },
      "source": [
        "sns.countplot(df['Property_Area'])"
      ],
      "id": "hydraulic-arkansas",
      "execution_count": 17,
      "outputs": [
        {
          "output_type": "stream",
          "text": [
            "/usr/local/lib/python3.7/dist-packages/seaborn/_decorators.py:43: FutureWarning: Pass the following variable as a keyword arg: x. From version 0.12, the only valid positional argument will be `data`, and passing other arguments without an explicit keyword will result in an error or misinterpretation.\n",
            "  FutureWarning\n"
          ],
          "name": "stderr"
        },
        {
          "output_type": "execute_result",
          "data": {
            "text/plain": [
              "<matplotlib.axes._subplots.AxesSubplot at 0x7fc74a943210>"
            ]
          },
          "metadata": {
            "tags": []
          },
          "execution_count": 17
        },
        {
          "output_type": "display_data",
          "data": {
            "image/png": "[encoded data removed]",
            "text/plain": [
              "<Figure size 432x288 with 1 Axes>"
            ]
          },
          "metadata": {
            "tags": [],
            "needs_background": "light"
          }
        }
      ]
    },
    {
      "cell_type": "code",
      "metadata": {
        "execution": {
          "iopub.execute_input": "2021-04-05T20:15:30.766803Z",
          "iopub.status.busy": "2021-04-05T20:15:30.762030Z",
          "iopub.status.idle": "2021-04-05T20:15:30.868296Z",
          "shell.execute_reply": "2021-04-05T20:15:30.867432Z"
        },
        "papermill": {
          "duration": 0.182797,
          "end_time": "2021-04-05T20:15:30.868472",
          "exception": false,
          "start_time": "2021-04-05T20:15:30.685675",
          "status": "completed"
        },
        "tags": [],
        "id": "south-working",
        "colab": {
          "base_uri": "https://localhost:8080/",
          "height": 350
        },
        "outputId": "4291c112-eb34-4e6a-e090-ad435208e755"
      },
      "source": [
        "sns.countplot(df['Loan_Status'])"
      ],
      "id": "south-working",
      "execution_count": 18,
      "outputs": [
        {
          "output_type": "stream",
          "text": [
            "/usr/local/lib/python3.7/dist-packages/seaborn/_decorators.py:43: FutureWarning: Pass the following variable as a keyword arg: x. From version 0.12, the only valid positional argument will be `data`, and passing other arguments without an explicit keyword will result in an error or misinterpretation.\n",
            "  FutureWarning\n"
          ],
          "name": "stderr"
        },
        {
          "output_type": "execute_result",
          "data": {
            "text/plain": [
              "<matplotlib.axes._subplots.AxesSubplot at 0x7fc735912a50>"
            ]
          },
          "metadata": {
            "tags": []
          },
          "execution_count": 18
        },
        {
          "output_type": "display_data",
          "data": {
            "image/png": "[encoded data removed]",
            "text/plain": [
              "<Figure size 432x288 with 1 Axes>"
            ]
          },
          "metadata": {
            "tags": [],
            "needs_background": "light"
          }
        }
      ]
    },
    {
      "cell_type": "markdown",
      "metadata": {
        "papermill": {
          "duration": 0.04654,
          "end_time": "2021-04-05T20:15:31.085962",
          "exception": false,
          "start_time": "2021-04-05T20:15:31.039422",
          "status": "completed"
        },
        "tags": [],
        "id": "welsh-stanley"
      },
      "source": [
        "### Numerical Features"
      ],
      "id": "welsh-stanley"
    },
    {
      "cell_type": "code",
      "metadata": {
        "execution": {
          "iopub.execute_input": "2021-04-05T20:15:31.181343Z",
          "iopub.status.busy": "2021-04-05T20:15:31.180603Z",
          "iopub.status.idle": "2021-04-05T20:15:31.472337Z",
          "shell.execute_reply": "2021-04-05T20:15:31.472894Z"
        },
        "papermill": {
          "duration": 0.342118,
          "end_time": "2021-04-05T20:15:31.473077",
          "exception": false,
          "start_time": "2021-04-05T20:15:31.130959",
          "status": "completed"
        },
        "tags": [],
        "colab": {
          "base_uri": "https://localhost:8080/",
          "height": 350
        },
        "id": "significant-corporation",
        "outputId": "7c4d37ef-e564-4082-d492-0f1d82d92202"
      },
      "source": [
        "sns.distplot(df['ApplicantIncome'])"
      ],
      "id": "significant-corporation",
      "execution_count": 109,
      "outputs": [
        {
          "output_type": "stream",
          "text": [
            "/usr/local/lib/python3.7/dist-packages/seaborn/distributions.py:2557: FutureWarning: `distplot` is a deprecated function and will be removed in a future version. Please adapt your code to use either `displot` (a figure-level function with similar flexibility) or `histplot` (an axes-level function for histograms).\n",
            "  warnings.warn(msg, FutureWarning)\n"
          ],
          "name": "stderr"
        },
        {
          "output_type": "execute_result",
          "data": {
            "text/plain": [
              "<matplotlib.axes._subplots.AxesSubplot at 0x7fc724b93f10>"
            ]
          },
          "metadata": {
            "tags": []
          },
          "execution_count": 109
        },
        {
          "output_type": "display_data",
          "data": {
            "image/png": "[encoded data removed]",
            "text/plain": [
              "<Figure size 432x288 with 1 Axes>"
            ]
          },
          "metadata": {
            "tags": [],
            "needs_background": "light"
          }
        }
      ]
    },
    {
      "cell_type": "code",
      "metadata": {
        "colab": {
          "base_uri": "https://localhost:8080/",
          "height": 350
        },
        "id": "7PQhQuJfeBkh",
        "outputId": "a9f6812f-ba31-4638-c147-05b27d36a1aa"
      },
      "source": [
        "sns.distplot(df['CoapplicantIncome'])"
      ],
      "id": "7PQhQuJfeBkh",
      "execution_count": 110,
      "outputs": [
        {
          "output_type": "stream",
          "text": [
            "/usr/local/lib/python3.7/dist-packages/seaborn/distributions.py:2557: FutureWarning: `distplot` is a deprecated function and will be removed in a future version. Please adapt your code to use either `displot` (a figure-level function with similar flexibility) or `histplot` (an axes-level function for histograms).\n",
            "  warnings.warn(msg, FutureWarning)\n"
          ],
          "name": "stderr"
        },
        {
          "output_type": "execute_result",
          "data": {
            "text/plain": [
              "<matplotlib.axes._subplots.AxesSubplot at 0x7fc724b078d0>"
            ]
          },
          "metadata": {
            "tags": []
          },
          "execution_count": 110
        },
        {
          "output_type": "display_data",
          "data": {
            "image/png": "[encoded data removed]",
            "text/plain": [
              "<Figure size 432x288 with 1 Axes>"
            ]
          },
          "metadata": {
            "tags": [],
            "needs_background": "light"
          }
        }
      ]
    },
    {
      "cell_type": "code",
      "metadata": {
        "execution": {
          "iopub.execute_input": "2021-04-05T20:15:31.587412Z",
          "iopub.status.busy": "2021-04-05T20:15:31.575885Z",
          "iopub.status.idle": "2021-04-05T20:15:31.819762Z",
          "shell.execute_reply": "2021-04-05T20:15:31.820335Z"
        },
        "papermill": {
          "duration": 0.301749,
          "end_time": "2021-04-05T20:15:31.820548",
          "exception": false,
          "start_time": "2021-04-05T20:15:31.518799",
          "status": "completed"
        },
        "tags": [],
        "colab": {
          "base_uri": "https://localhost:8080/",
          "height": 350
        },
        "id": "charged-school",
        "outputId": "11300cae-5b89-4bfc-e367-f60c4ece1af4"
      },
      "source": [
        "sns.distplot(df['LoanAmount'])"
      ],
      "id": "charged-school",
      "execution_count": 111,
      "outputs": [
        {
          "output_type": "stream",
          "text": [
            "/usr/local/lib/python3.7/dist-packages/seaborn/distributions.py:2557: FutureWarning: `distplot` is a deprecated function and will be removed in a future version. Please adapt your code to use either `displot` (a figure-level function with similar flexibility) or `histplot` (an axes-level function for histograms).\n",
            "  warnings.warn(msg, FutureWarning)\n"
          ],
          "name": "stderr"
        },
        {
          "output_type": "execute_result",
          "data": {
            "text/plain": [
              "<matplotlib.axes._subplots.AxesSubplot at 0x7fc7249f4cd0>"
            ]
          },
          "metadata": {
            "tags": []
          },
          "execution_count": 111
        },
        {
          "output_type": "display_data",
          "data": {
            "image/png": "[encoded data removed]",
            "text/plain": [
              "<Figure size 432x288 with 1 Axes>"
            ]
          },
          "metadata": {
            "tags": [],
            "needs_background": "light"
          }
        }
      ]
    },
    {
      "cell_type": "code",
      "metadata": {
        "execution": {
          "iopub.execute_input": "2021-04-05T20:15:31.939784Z",
          "iopub.status.busy": "2021-04-05T20:15:31.939043Z",
          "iopub.status.idle": "2021-04-05T20:15:32.141109Z",
          "shell.execute_reply": "2021-04-05T20:15:32.141638Z"
        },
        "papermill": {
          "duration": 0.273873,
          "end_time": "2021-04-05T20:15:32.141830",
          "exception": false,
          "start_time": "2021-04-05T20:15:31.867957",
          "status": "completed"
        },
        "tags": [],
        "colab": {
          "base_uri": "https://localhost:8080/",
          "height": 350
        },
        "id": "radio-czech",
        "outputId": "3fb27f93-3a10-42f8-c438-8974940215cc"
      },
      "source": [
        "sns.distplot(df['Loan_Amount_Term'])"
      ],
      "id": "radio-czech",
      "execution_count": 112,
      "outputs": [
        {
          "output_type": "stream",
          "text": [
            "/usr/local/lib/python3.7/dist-packages/seaborn/distributions.py:2557: FutureWarning: `distplot` is a deprecated function and will be removed in a future version. Please adapt your code to use either `displot` (a figure-level function with similar flexibility) or `histplot` (an axes-level function for histograms).\n",
            "  warnings.warn(msg, FutureWarning)\n"
          ],
          "name": "stderr"
        },
        {
          "output_type": "execute_result",
          "data": {
            "text/plain": [
              "<matplotlib.axes._subplots.AxesSubplot at 0x7fc7248d97d0>"
            ]
          },
          "metadata": {
            "tags": []
          },
          "execution_count": 112
        },
        {
          "output_type": "display_data",
          "data": {
            "image/png": "[encoded data removed]",
            "text/plain": [
              "<Figure size 432x288 with 1 Axes>"
            ]
          },
          "metadata": {
            "tags": [],
            "needs_background": "light"
          }
        }
      ]
    },
    {
      "cell_type": "code",
      "metadata": {
        "execution": {
          "iopub.execute_input": "2021-04-05T20:15:32.243293Z",
          "iopub.status.busy": "2021-04-05T20:15:32.242632Z",
          "iopub.status.idle": "2021-04-05T20:15:32.469740Z",
          "shell.execute_reply": "2021-04-05T20:15:32.469101Z"
        },
        "papermill": {
          "duration": 0.278788,
          "end_time": "2021-04-05T20:15:32.469892",
          "exception": false,
          "start_time": "2021-04-05T20:15:32.191104",
          "status": "completed"
        },
        "tags": [],
        "colab": {
          "base_uri": "https://localhost:8080/",
          "height": 350
        },
        "id": "closing-michigan",
        "outputId": "d6899715-8fc6-4497-d42d-f5fc1fe65355"
      },
      "source": [
        "sns.boxplot(df['ApplicantIncome'])"
      ],
      "id": "closing-michigan",
      "execution_count": 113,
      "outputs": [
        {
          "output_type": "stream",
          "text": [
            "/usr/local/lib/python3.7/dist-packages/seaborn/_decorators.py:43: FutureWarning: Pass the following variable as a keyword arg: x. From version 0.12, the only valid positional argument will be `data`, and passing other arguments without an explicit keyword will result in an error or misinterpretation.\n",
            "  FutureWarning\n"
          ],
          "name": "stderr"
        },
        {
          "output_type": "execute_result",
          "data": {
            "text/plain": [
              "<matplotlib.axes._subplots.AxesSubplot at 0x7fc724fba950>"
            ]
          },
          "metadata": {
            "tags": []
          },
          "execution_count": 113
        },
        {
          "output_type": "display_data",
          "data": {
            "image/png": "[encoded data removed]",
            "text/plain": [
              "<Figure size 432x288 with 1 Axes>"
            ]
          },
          "metadata": {
            "tags": [],
            "needs_background": "light"
          }
        }
      ]
    },
    {
      "cell_type": "code",
      "metadata": {
        "colab": {
          "base_uri": "https://localhost:8080/",
          "height": 350
        },
        "id": "hwcxx6p2fNJR",
        "outputId": "860bae0c-dee2-45bd-c0dc-6ff21b9e6939"
      },
      "source": [
        "sns.boxplot(df['CoapplicantIncome'])"
      ],
      "id": "hwcxx6p2fNJR",
      "execution_count": 114,
      "outputs": [
        {
          "output_type": "stream",
          "text": [
            "/usr/local/lib/python3.7/dist-packages/seaborn/_decorators.py:43: FutureWarning: Pass the following variable as a keyword arg: x. From version 0.12, the only valid positional argument will be `data`, and passing other arguments without an explicit keyword will result in an error or misinterpretation.\n",
            "  FutureWarning\n"
          ],
          "name": "stderr"
        },
        {
          "output_type": "execute_result",
          "data": {
            "text/plain": [
              "<matplotlib.axes._subplots.AxesSubplot at 0x7fc7247e67d0>"
            ]
          },
          "metadata": {
            "tags": []
          },
          "execution_count": 114
        },
        {
          "output_type": "display_data",
          "data": {
            "image/png": "[encoded data removed]",
            "text/plain": [
              "<Figure size 432x288 with 1 Axes>"
            ]
          },
          "metadata": {
            "tags": [],
            "needs_background": "light"
          }
        }
      ]
    },
    {
      "cell_type": "code",
      "metadata": {
        "colab": {
          "base_uri": "https://localhost:8080/",
          "height": 350
        },
        "id": "s109lk2ufSWi",
        "outputId": "68d012b7-4cfa-409a-8a08-02cb3580d6db"
      },
      "source": [
        "sns.boxplot(df['LoanAmount'])"
      ],
      "id": "s109lk2ufSWi",
      "execution_count": 115,
      "outputs": [
        {
          "output_type": "stream",
          "text": [
            "/usr/local/lib/python3.7/dist-packages/seaborn/_decorators.py:43: FutureWarning: Pass the following variable as a keyword arg: x. From version 0.12, the only valid positional argument will be `data`, and passing other arguments without an explicit keyword will result in an error or misinterpretation.\n",
            "  FutureWarning\n"
          ],
          "name": "stderr"
        },
        {
          "output_type": "execute_result",
          "data": {
            "text/plain": [
              "<matplotlib.axes._subplots.AxesSubplot at 0x7fc7247c7a90>"
            ]
          },
          "metadata": {
            "tags": []
          },
          "execution_count": 115
        },
        {
          "output_type": "display_data",
          "data": {
            "image/png": "[encoded data removed]",
            "text/plain": [
              "<Figure size 432x288 with 1 Axes>"
            ]
          },
          "metadata": {
            "tags": [],
            "needs_background": "light"
          }
        }
      ]
    },
    {
      "cell_type": "markdown",
      "metadata": {
        "papermill": {
          "duration": 0.051274,
          "end_time": "2021-04-05T20:15:32.706213",
          "exception": false,
          "start_time": "2021-04-05T20:15:32.654939",
          "status": "completed"
        },
        "tags": [],
        "id": "formal-outside"
      },
      "source": [
        "## Multivariate Analysis"
      ],
      "id": "formal-outside"
    },
    {
      "cell_type": "code",
      "metadata": {
        "execution": {
          "iopub.execute_input": "2021-04-05T20:15:32.842021Z",
          "iopub.status.busy": "2021-04-05T20:15:32.841327Z",
          "iopub.status.idle": "2021-04-05T20:15:33.336443Z",
          "shell.execute_reply": "2021-04-05T20:15:33.336936Z"
        },
        "papermill": {
          "duration": 0.578248,
          "end_time": "2021-04-05T20:15:33.337128",
          "exception": false,
          "start_time": "2021-04-05T20:15:32.758880",
          "status": "completed"
        },
        "tags": [],
        "id": "agreed-alaska",
        "colab": {
          "base_uri": "https://localhost:8080/",
          "height": 373
        },
        "outputId": "50aa90d0-7418-4ef3-f434-878b29836ec0"
      },
      "source": [
        "corr = df.corr()\n",
        "sns.heatmap(corr,annot=True, cmap='BuPu')"
      ],
      "id": "agreed-alaska",
      "execution_count": 116,
      "outputs": [
        {
          "output_type": "execute_result",
          "data": {
            "text/plain": [
              "<matplotlib.axes._subplots.AxesSubplot at 0x7fc724786310>"
            ]
          },
          "metadata": {
            "tags": []
          },
          "execution_count": 116
        },
        {
          "output_type": "display_data",
          "data": {
            "image/png": "[encoded data removed]",
            "text/plain": [
              "<Figure size 432x288 with 2 Axes>"
            ]
          },
          "metadata": {
            "tags": [],
            "needs_background": "light"
          }
        }
      ]
    },
    {
      "cell_type": "code",
      "metadata": {
        "execution": {
          "iopub.execute_input": "2021-04-05T20:15:28.470649Z",
          "iopub.status.busy": "2021-04-05T20:15:28.469557Z",
          "iopub.status.idle": "2021-04-05T20:15:28.472961Z",
          "shell.execute_reply": "2021-04-05T20:15:28.472318Z"
        },
        "papermill": {
          "duration": 0.04994,
          "end_time": "2021-04-05T20:15:28.473103",
          "exception": false,
          "start_time": "2021-04-05T20:15:28.423163",
          "status": "completed"
        },
        "tags": [],
        "id": "concrete-disclaimer"
      },
      "source": [
        "# fill the missing values for categorical terms - mode\n",
        "df['Gender']=df['Gender'].fillna(df['Gender'].mode()[0])\n",
        "df['Married']=df['Married'].fillna(df['Married'].mode()[0])\n",
        "df['Dependents']=df['Dependents'].fillna(df['Dependents'].mode()[0])\n",
        "df['Self_Employed']=df['Self_Employed'].fillna(df['Self_Employed'].mode()[0])"
      ],
      "id": "concrete-disclaimer",
      "execution_count": 117,
      "outputs": []
    },
    {
      "cell_type": "code",
      "metadata": {
        "colab": {
          "base_uri": "https://localhost:8080/"
        },
        "id": "07toNuchUVE2",
        "outputId": "3b021d7b-6442-484d-fed6-83dc995a0db8"
      },
      "source": [
        "df['Loan_Amount_Term'].value_counts()"
      ],
      "id": "07toNuchUVE2",
      "execution_count": 118,
      "outputs": [
        {
          "output_type": "execute_result",
          "data": {
            "text/plain": [
              "360.0    512\n",
              "180.0     44\n",
              "480.0     15\n",
              "300.0     13\n",
              "84.0       4\n",
              "240.0      4\n",
              "120.0      3\n",
              "36.0       2\n",
              "60.0       2\n",
              "12.0       1\n",
              "Name: Loan_Amount_Term, dtype: int64"
            ]
          },
          "metadata": {
            "tags": []
          },
          "execution_count": 118
        }
      ]
    },
    {
      "cell_type": "code",
      "metadata": {
        "colab": {
          "base_uri": "https://localhost:8080/"
        },
        "id": "rkUDAxXdUXwv",
        "outputId": "7e2ef16b-69ba-4282-c623-7883861b7239"
      },
      "source": [
        "df['LoanAmount'].value_counts()"
      ],
      "id": "rkUDAxXdUXwv",
      "execution_count": 119,
      "outputs": [
        {
          "output_type": "execute_result",
          "data": {
            "text/plain": [
              "120.0    20\n",
              "110.0    17\n",
              "100.0    15\n",
              "187.0    12\n",
              "160.0    12\n",
              "         ..\n",
              "570.0     1\n",
              "300.0     1\n",
              "376.0     1\n",
              "117.0     1\n",
              "311.0     1\n",
              "Name: LoanAmount, Length: 203, dtype: int64"
            ]
          },
          "metadata": {
            "tags": []
          },
          "execution_count": 119
        }
      ]
    },
    {
      "cell_type": "code",
      "metadata": {
        "colab": {
          "base_uri": "https://localhost:8080/"
        },
        "id": "k5G4ZqumWLbV",
        "outputId": "bd895fca-f7e1-4213-e8c8-326cb601257b"
      },
      "source": [
        "df['Credit_History'].value_counts()"
      ],
      "id": "k5G4ZqumWLbV",
      "execution_count": 120,
      "outputs": [
        {
          "output_type": "execute_result",
          "data": {
            "text/plain": [
              "1.0    475\n",
              "0.0     89\n",
              "Name: Credit_History, dtype: int64"
            ]
          },
          "metadata": {
            "tags": []
          },
          "execution_count": 120
        }
      ]
    },
    {
      "cell_type": "code",
      "metadata": {
        "execution": {
          "iopub.execute_input": "2021-04-05T20:15:28.380697Z",
          "iopub.status.busy": "2021-04-05T20:15:28.379926Z",
          "iopub.status.idle": "2021-04-05T20:15:28.388190Z",
          "shell.execute_reply": "2021-04-05T20:15:28.387539Z"
        },
        "papermill": {
          "duration": 0.046471,
          "end_time": "2021-04-05T20:15:28.388407",
          "exception": false,
          "start_time": "2021-04-05T20:15:28.341936",
          "status": "completed"
        },
        "tags": [],
        "id": "initial-punishment",
        "colab": {
          "base_uri": "https://localhost:8080/"
        },
        "outputId": "01fcdff8-4ab0-4488-dd97-ec4bb796a3c3"
      },
      "source": [
        "#filling the null values for numerical data\n",
        "df['LoanAmount']=df['LoanAmount'].fillna(df['LoanAmount'].mode()[0])\n",
        "df['Loan_Amount_Term']=df['Loan_Amount_Term'].fillna(df['Loan_Amount_Term'].median())\n",
        "df['Credit_History']=df['Credit_History'].fillna(df['Credit_History'].mode()[0])\n",
        "df.isnull().sum()"
      ],
      "id": "initial-punishment",
      "execution_count": 121,
      "outputs": [
        {
          "output_type": "execute_result",
          "data": {
            "text/plain": [
              "Loan_ID              0\n",
              "Gender               0\n",
              "Married              0\n",
              "Dependents           0\n",
              "Education            0\n",
              "Self_Employed        0\n",
              "ApplicantIncome      0\n",
              "CoapplicantIncome    0\n",
              "LoanAmount           0\n",
              "Loan_Amount_Term     0\n",
              "Credit_History       0\n",
              "Property_Area        0\n",
              "Loan_Status          0\n",
              "dtype: int64"
            ]
          },
          "metadata": {
            "tags": []
          },
          "execution_count": 121
        }
      ]
    },
    {
      "cell_type": "code",
      "metadata": {
        "execution": {
          "iopub.execute_input": "2021-04-05T20:15:32.592628Z",
          "iopub.status.busy": "2021-04-05T20:15:32.591376Z",
          "iopub.status.idle": "2021-04-05T20:15:32.603278Z",
          "shell.execute_reply": "2021-04-05T20:15:32.602720Z"
        },
        "papermill": {
          "duration": 0.082066,
          "end_time": "2021-04-05T20:15:32.603432",
          "exception": false,
          "start_time": "2021-04-05T20:15:32.521366",
          "status": "completed"
        },
        "tags": [],
        "id": "defensive-burst",
        "colab": {
          "base_uri": "https://localhost:8080/",
          "height": 536
        },
        "outputId": "cf91d0e6-b676-43e6-d47b-9bfed88dd85c"
      },
      "source": [
        "# total income\n",
        "df['Total_Income']=df['ApplicantIncome'] + df['CoapplicantIncome']\n",
        "sns.distplot(df['Total_Income'])\n",
        "df.head()"
      ],
      "id": "defensive-burst",
      "execution_count": 123,
      "outputs": [
        {
          "output_type": "stream",
          "text": [
            "/usr/local/lib/python3.7/dist-packages/seaborn/distributions.py:2557: FutureWarning: `distplot` is a deprecated function and will be removed in a future version. Please adapt your code to use either `displot` (a figure-level function with similar flexibility) or `histplot` (an axes-level function for histograms).\n",
            "  warnings.warn(msg, FutureWarning)\n"
          ],
          "name": "stderr"
        },
        {
          "output_type": "execute_result",
          "data": {
            "text/html": [
              "<div>\n",
              "<style scoped>\n",
              "    .dataframe tbody tr th:only-of-type {\n",
              "        vertical-align: middle;\n",
              "    }\n",
              "\n",
              "    .dataframe tbody tr th {\n",
              "        vertical-align: top;\n",
              "    }\n",
              "\n",
              "    .dataframe thead th {\n",
              "        text-align: right;\n",
              "    }\n",
              "</style>\n",
              "<table border=\"1\" class=\"dataframe\">\n",
              "  <thead>\n",
              "    <tr style=\"text-align: right;\">\n",
              "      <th></th>\n",
              "      <th>Loan_ID</th>\n",
              "      <th>Gender</th>\n",
              "      <th>Married</th>\n",
              "      <th>Dependents</th>\n",
              "      <th>Education</th>\n",
              "      <th>Self_Employed</th>\n",
              "      <th>ApplicantIncome</th>\n",
              "      <th>CoapplicantIncome</th>\n",
              "      <th>LoanAmount</th>\n",
              "      <th>Loan_Amount_Term</th>\n",
              "      <th>Credit_History</th>\n",
              "      <th>Property_Area</th>\n",
              "      <th>Loan_Status</th>\n",
              "      <th>Total_Income</th>\n",
              "    </tr>\n",
              "  </thead>\n",
              "  <tbody>\n",
              "    <tr>\n",
              "      <th>0</th>\n",
              "      <td>LP001002</td>\n",
              "      <td>Male</td>\n",
              "      <td>No</td>\n",
              "      <td>0</td>\n",
              "      <td>Graduate</td>\n",
              "      <td>No</td>\n",
              "      <td>5849</td>\n",
              "      <td>0.0</td>\n",
              "      <td>120.0</td>\n",
              "      <td>360.0</td>\n",
              "      <td>1.0</td>\n",
              "      <td>Urban</td>\n",
              "      <td>Y</td>\n",
              "      <td>5849.0</td>\n",
              "    </tr>\n",
              "    <tr>\n",
              "      <th>1</th>\n",
              "      <td>LP001003</td>\n",
              "      <td>Male</td>\n",
              "      <td>Yes</td>\n",
              "      <td>1</td>\n",
              "      <td>Graduate</td>\n",
              "      <td>No</td>\n",
              "      <td>4583</td>\n",
              "      <td>1508.0</td>\n",
              "      <td>128.0</td>\n",
              "      <td>360.0</td>\n",
              "      <td>1.0</td>\n",
              "      <td>Rural</td>\n",
              "      <td>N</td>\n",
              "      <td>6091.0</td>\n",
              "    </tr>\n",
              "    <tr>\n",
              "      <th>2</th>\n",
              "      <td>LP001005</td>\n",
              "      <td>Male</td>\n",
              "      <td>Yes</td>\n",
              "      <td>0</td>\n",
              "      <td>Graduate</td>\n",
              "      <td>Yes</td>\n",
              "      <td>3000</td>\n",
              "      <td>0.0</td>\n",
              "      <td>66.0</td>\n",
              "      <td>360.0</td>\n",
              "      <td>1.0</td>\n",
              "      <td>Urban</td>\n",
              "      <td>Y</td>\n",
              "      <td>3000.0</td>\n",
              "    </tr>\n",
              "    <tr>\n",
              "      <th>3</th>\n",
              "      <td>LP001006</td>\n",
              "      <td>Male</td>\n",
              "      <td>Yes</td>\n",
              "      <td>0</td>\n",
              "      <td>Not Graduate</td>\n",
              "      <td>No</td>\n",
              "      <td>2583</td>\n",
              "      <td>2358.0</td>\n",
              "      <td>120.0</td>\n",
              "      <td>360.0</td>\n",
              "      <td>1.0</td>\n",
              "      <td>Urban</td>\n",
              "      <td>Y</td>\n",
              "      <td>4941.0</td>\n",
              "    </tr>\n",
              "    <tr>\n",
              "      <th>4</th>\n",
              "      <td>LP001008</td>\n",
              "      <td>Male</td>\n",
              "      <td>No</td>\n",
              "      <td>0</td>\n",
              "      <td>Graduate</td>\n",
              "      <td>No</td>\n",
              "      <td>6000</td>\n",
              "      <td>0.0</td>\n",
              "      <td>141.0</td>\n",
              "      <td>360.0</td>\n",
              "      <td>1.0</td>\n",
              "      <td>Urban</td>\n",
              "      <td>Y</td>\n",
              "      <td>6000.0</td>\n",
              "    </tr>\n",
              "  </tbody>\n",
              "</table>\n",
              "</div>"
            ],
            "text/plain": [
              "    Loan_ID Gender Married  ... Property_Area Loan_Status Total_Income\n",
              "0  LP001002   Male      No  ...         Urban           Y       5849.0\n",
              "1  LP001003   Male     Yes  ...         Rural           N       6091.0\n",
              "2  LP001005   Male     Yes  ...         Urban           Y       3000.0\n",
              "3  LP001006   Male     Yes  ...         Urban           Y       4941.0\n",
              "4  LP001008   Male      No  ...         Urban           Y       6000.0\n",
              "\n",
              "[5 rows x 14 columns]"
            ]
          },
          "metadata": {
            "tags": []
          },
          "execution_count": 123
        },
        {
          "output_type": "display_data",
          "data": {
            "image/png": "[encoded data removed]",
            "text/plain": [
              "<Figure size 432x288 with 1 Axes>"
            ]
          },
          "metadata": {
            "tags": [],
            "needs_background": "light"
          }
        }
      ]
    },
    {
      "cell_type": "code",
      "metadata": {
        "colab": {
          "base_uri": "https://localhost:8080/",
          "height": 467
        },
        "id": "kjNiy3Z2h4-u",
        "outputId": "8f449ffb-e4a4-4b60-f96e-08cd2d0fb950"
      },
      "source": [
        "#transforming the skewed distribution of LoanAmount\n",
        "df['LoanAmount']=np.log(df['LoanAmount'])\n",
        "sns.distplot(df['LoanAmount'])\n",
        "print(df.head())"
      ],
      "id": "kjNiy3Z2h4-u",
      "execution_count": 86,
      "outputs": [
        {
          "output_type": "stream",
          "text": [
            "/usr/local/lib/python3.7/dist-packages/seaborn/distributions.py:2557: FutureWarning: `distplot` is a deprecated function and will be removed in a future version. Please adapt your code to use either `displot` (a figure-level function with similar flexibility) or `histplot` (an axes-level function for histograms).\n",
            "  warnings.warn(msg, FutureWarning)\n"
          ],
          "name": "stderr"
        },
        {
          "output_type": "stream",
          "text": [
            "    Loan_ID Gender Married  ... Property_Area Loan_Status Total_Income\n",
            "0  LP001002   Male      No  ...         Urban           Y       5849.0\n",
            "1  LP001003   Male     Yes  ...         Rural           N       6091.0\n",
            "2  LP001005   Male     Yes  ...         Urban           Y       3000.0\n",
            "3  LP001006   Male     Yes  ...         Urban           Y       4941.0\n",
            "4  LP001008   Male      No  ...         Urban           Y       6000.0\n",
            "\n",
            "[5 rows x 14 columns]\n"
          ],
          "name": "stdout"
        },
        {
          "output_type": "display_data",
          "data": {
            "image/png": "[encoded data removed]",
            "text/plain": [
              "<Figure size 432x288 with 1 Axes>"
            ]
          },
          "metadata": {
            "tags": [],
            "needs_background": "light"
          }
        }
      ]
    },
    {
      "cell_type": "code",
      "metadata": {
        "colab": {
          "base_uri": "https://localhost:8080/",
          "height": 350
        },
        "id": "kI50h1jckeHw",
        "outputId": "690374c1-ca70-4c00-902f-70bfe782c919"
      },
      "source": [
        "df['Total_Income']=np.log(df['Total_Income'])\n",
        "sns.distplot(df['Total_Income'])"
      ],
      "id": "kI50h1jckeHw",
      "execution_count": 125,
      "outputs": [
        {
          "output_type": "stream",
          "text": [
            "/usr/local/lib/python3.7/dist-packages/seaborn/distributions.py:2557: FutureWarning: `distplot` is a deprecated function and will be removed in a future version. Please adapt your code to use either `displot` (a figure-level function with similar flexibility) or `histplot` (an axes-level function for histograms).\n",
            "  warnings.warn(msg, FutureWarning)\n"
          ],
          "name": "stderr"
        },
        {
          "output_type": "execute_result",
          "data": {
            "text/plain": [
              "<matplotlib.axes._subplots.AxesSubplot at 0x7fc724625d10>"
            ]
          },
          "metadata": {
            "tags": []
          },
          "execution_count": 125
        },
        {
          "output_type": "display_data",
          "data": {
            "image/png": "[encoded data removed]",
            "text/plain": [
              "<Figure size 432x288 with 1 Axes>"
            ]
          },
          "metadata": {
            "tags": [],
            "needs_background": "light"
          }
        }
      ]
    },
    {
      "cell_type": "code",
      "metadata": {
        "execution": {
          "iopub.execute_input": "2021-04-05T20:15:33.447203Z",
          "iopub.status.busy": "2021-04-05T20:15:33.446546Z",
          "iopub.status.idle": "2021-04-05T20:15:33.466824Z",
          "shell.execute_reply": "2021-04-05T20:15:33.467303Z"
        },
        "papermill": {
          "duration": 0.077204,
          "end_time": "2021-04-05T20:15:33.467506",
          "exception": false,
          "start_time": "2021-04-05T20:15:33.390302",
          "status": "completed"
        },
        "tags": [],
        "id": "technological-allowance",
        "colab": {
          "base_uri": "https://localhost:8080/",
          "height": 240
        },
        "outputId": "8fb46216-ee6f-4fd7-d494-43ee18ade0fa"
      },
      "source": [
        "df.head()"
      ],
      "id": "technological-allowance",
      "execution_count": 126,
      "outputs": [
        {
          "output_type": "execute_result",
          "data": {
            "text/html": [
              "<div>\n",
              "<style scoped>\n",
              "    .dataframe tbody tr th:only-of-type {\n",
              "        vertical-align: middle;\n",
              "    }\n",
              "\n",
              "    .dataframe tbody tr th {\n",
              "        vertical-align: top;\n",
              "    }\n",
              "\n",
              "    .dataframe thead th {\n",
              "        text-align: right;\n",
              "    }\n",
              "</style>\n",
              "<table border=\"1\" class=\"dataframe\">\n",
              "  <thead>\n",
              "    <tr style=\"text-align: right;\">\n",
              "      <th></th>\n",
              "      <th>Loan_ID</th>\n",
              "      <th>Gender</th>\n",
              "      <th>Married</th>\n",
              "      <th>Dependents</th>\n",
              "      <th>Education</th>\n",
              "      <th>Self_Employed</th>\n",
              "      <th>ApplicantIncome</th>\n",
              "      <th>CoapplicantIncome</th>\n",
              "      <th>LoanAmount</th>\n",
              "      <th>Loan_Amount_Term</th>\n",
              "      <th>Credit_History</th>\n",
              "      <th>Property_Area</th>\n",
              "      <th>Loan_Status</th>\n",
              "      <th>Total_Income</th>\n",
              "    </tr>\n",
              "  </thead>\n",
              "  <tbody>\n",
              "    <tr>\n",
              "      <th>0</th>\n",
              "      <td>LP001002</td>\n",
              "      <td>Male</td>\n",
              "      <td>No</td>\n",
              "      <td>0</td>\n",
              "      <td>Graduate</td>\n",
              "      <td>No</td>\n",
              "      <td>5849</td>\n",
              "      <td>0.0</td>\n",
              "      <td>120.0</td>\n",
              "      <td>360.0</td>\n",
              "      <td>1.0</td>\n",
              "      <td>Urban</td>\n",
              "      <td>Y</td>\n",
              "      <td>8.674026</td>\n",
              "    </tr>\n",
              "    <tr>\n",
              "      <th>1</th>\n",
              "      <td>LP001003</td>\n",
              "      <td>Male</td>\n",
              "      <td>Yes</td>\n",
              "      <td>1</td>\n",
              "      <td>Graduate</td>\n",
              "      <td>No</td>\n",
              "      <td>4583</td>\n",
              "      <td>1508.0</td>\n",
              "      <td>128.0</td>\n",
              "      <td>360.0</td>\n",
              "      <td>1.0</td>\n",
              "      <td>Rural</td>\n",
              "      <td>N</td>\n",
              "      <td>8.714568</td>\n",
              "    </tr>\n",
              "    <tr>\n",
              "      <th>2</th>\n",
              "      <td>LP001005</td>\n",
              "      <td>Male</td>\n",
              "      <td>Yes</td>\n",
              "      <td>0</td>\n",
              "      <td>Graduate</td>\n",
              "      <td>Yes</td>\n",
              "      <td>3000</td>\n",
              "      <td>0.0</td>\n",
              "      <td>66.0</td>\n",
              "      <td>360.0</td>\n",
              "      <td>1.0</td>\n",
              "      <td>Urban</td>\n",
              "      <td>Y</td>\n",
              "      <td>8.006368</td>\n",
              "    </tr>\n",
              "    <tr>\n",
              "      <th>3</th>\n",
              "      <td>LP001006</td>\n",
              "      <td>Male</td>\n",
              "      <td>Yes</td>\n",
              "      <td>0</td>\n",
              "      <td>Not Graduate</td>\n",
              "      <td>No</td>\n",
              "      <td>2583</td>\n",
              "      <td>2358.0</td>\n",
              "      <td>120.0</td>\n",
              "      <td>360.0</td>\n",
              "      <td>1.0</td>\n",
              "      <td>Urban</td>\n",
              "      <td>Y</td>\n",
              "      <td>8.505323</td>\n",
              "    </tr>\n",
              "    <tr>\n",
              "      <th>4</th>\n",
              "      <td>LP001008</td>\n",
              "      <td>Male</td>\n",
              "      <td>No</td>\n",
              "      <td>0</td>\n",
              "      <td>Graduate</td>\n",
              "      <td>No</td>\n",
              "      <td>6000</td>\n",
              "      <td>0.0</td>\n",
              "      <td>141.0</td>\n",
              "      <td>360.0</td>\n",
              "      <td>1.0</td>\n",
              "      <td>Urban</td>\n",
              "      <td>Y</td>\n",
              "      <td>8.699515</td>\n",
              "    </tr>\n",
              "  </tbody>\n",
              "</table>\n",
              "</div>"
            ],
            "text/plain": [
              "    Loan_ID Gender Married  ... Property_Area Loan_Status Total_Income\n",
              "0  LP001002   Male      No  ...         Urban           Y     8.674026\n",
              "1  LP001003   Male     Yes  ...         Rural           N     8.714568\n",
              "2  LP001005   Male     Yes  ...         Urban           Y     8.006368\n",
              "3  LP001006   Male     Yes  ...         Urban           Y     8.505323\n",
              "4  LP001008   Male      No  ...         Urban           Y     8.699515\n",
              "\n",
              "[5 rows x 14 columns]"
            ]
          },
          "metadata": {
            "tags": []
          },
          "execution_count": 126
        }
      ]
    },
    {
      "cell_type": "code",
      "metadata": {
        "execution": {
          "iopub.execute_input": "2021-04-05T20:15:33.581258Z",
          "iopub.status.busy": "2021-04-05T20:15:33.580592Z",
          "iopub.status.idle": "2021-04-05T20:15:33.601107Z",
          "shell.execute_reply": "2021-04-05T20:15:33.600385Z"
        },
        "papermill": {
          "duration": 0.080097,
          "end_time": "2021-04-05T20:15:33.601279",
          "exception": false,
          "start_time": "2021-04-05T20:15:33.521182",
          "status": "completed"
        },
        "tags": [],
        "id": "unlimited-fashion",
        "colab": {
          "base_uri": "https://localhost:8080/",
          "height": 203
        },
        "outputId": "2aae999e-1c34-4597-de53-5d4f111d92d5"
      },
      "source": [
        "cols = ['Loan_ID', 'CoapplicantIncome','ApplicantIncome']\n",
        "df=df.drop(columns=cols, axis=1)\n",
        "df.head()"
      ],
      "id": "unlimited-fashion",
      "execution_count": 127,
      "outputs": [
        {
          "output_type": "execute_result",
          "data": {
            "text/html": [
              "<div>\n",
              "<style scoped>\n",
              "    .dataframe tbody tr th:only-of-type {\n",
              "        vertical-align: middle;\n",
              "    }\n",
              "\n",
              "    .dataframe tbody tr th {\n",
              "        vertical-align: top;\n",
              "    }\n",
              "\n",
              "    .dataframe thead th {\n",
              "        text-align: right;\n",
              "    }\n",
              "</style>\n",
              "<table border=\"1\" class=\"dataframe\">\n",
              "  <thead>\n",
              "    <tr style=\"text-align: right;\">\n",
              "      <th></th>\n",
              "      <th>Gender</th>\n",
              "      <th>Married</th>\n",
              "      <th>Dependents</th>\n",
              "      <th>Education</th>\n",
              "      <th>Self_Employed</th>\n",
              "      <th>LoanAmount</th>\n",
              "      <th>Loan_Amount_Term</th>\n",
              "      <th>Credit_History</th>\n",
              "      <th>Property_Area</th>\n",
              "      <th>Loan_Status</th>\n",
              "      <th>Total_Income</th>\n",
              "    </tr>\n",
              "  </thead>\n",
              "  <tbody>\n",
              "    <tr>\n",
              "      <th>0</th>\n",
              "      <td>Male</td>\n",
              "      <td>No</td>\n",
              "      <td>0</td>\n",
              "      <td>Graduate</td>\n",
              "      <td>No</td>\n",
              "      <td>120.0</td>\n",
              "      <td>360.0</td>\n",
              "      <td>1.0</td>\n",
              "      <td>Urban</td>\n",
              "      <td>Y</td>\n",
              "      <td>8.674026</td>\n",
              "    </tr>\n",
              "    <tr>\n",
              "      <th>1</th>\n",
              "      <td>Male</td>\n",
              "      <td>Yes</td>\n",
              "      <td>1</td>\n",
              "      <td>Graduate</td>\n",
              "      <td>No</td>\n",
              "      <td>128.0</td>\n",
              "      <td>360.0</td>\n",
              "      <td>1.0</td>\n",
              "      <td>Rural</td>\n",
              "      <td>N</td>\n",
              "      <td>8.714568</td>\n",
              "    </tr>\n",
              "    <tr>\n",
              "      <th>2</th>\n",
              "      <td>Male</td>\n",
              "      <td>Yes</td>\n",
              "      <td>0</td>\n",
              "      <td>Graduate</td>\n",
              "      <td>Yes</td>\n",
              "      <td>66.0</td>\n",
              "      <td>360.0</td>\n",
              "      <td>1.0</td>\n",
              "      <td>Urban</td>\n",
              "      <td>Y</td>\n",
              "      <td>8.006368</td>\n",
              "    </tr>\n",
              "    <tr>\n",
              "      <th>3</th>\n",
              "      <td>Male</td>\n",
              "      <td>Yes</td>\n",
              "      <td>0</td>\n",
              "      <td>Not Graduate</td>\n",
              "      <td>No</td>\n",
              "      <td>120.0</td>\n",
              "      <td>360.0</td>\n",
              "      <td>1.0</td>\n",
              "      <td>Urban</td>\n",
              "      <td>Y</td>\n",
              "      <td>8.505323</td>\n",
              "    </tr>\n",
              "    <tr>\n",
              "      <th>4</th>\n",
              "      <td>Male</td>\n",
              "      <td>No</td>\n",
              "      <td>0</td>\n",
              "      <td>Graduate</td>\n",
              "      <td>No</td>\n",
              "      <td>141.0</td>\n",
              "      <td>360.0</td>\n",
              "      <td>1.0</td>\n",
              "      <td>Urban</td>\n",
              "      <td>Y</td>\n",
              "      <td>8.699515</td>\n",
              "    </tr>\n",
              "  </tbody>\n",
              "</table>\n",
              "</div>"
            ],
            "text/plain": [
              "  Gender Married Dependents  ... Property_Area Loan_Status  Total_Income\n",
              "0   Male      No          0  ...         Urban           Y      8.674026\n",
              "1   Male     Yes          1  ...         Rural           N      8.714568\n",
              "2   Male     Yes          0  ...         Urban           Y      8.006368\n",
              "3   Male     Yes          0  ...         Urban           Y      8.505323\n",
              "4   Male      No          0  ...         Urban           Y      8.699515\n",
              "\n",
              "[5 rows x 11 columns]"
            ]
          },
          "metadata": {
            "tags": []
          },
          "execution_count": 127
        }
      ]
    },
    {
      "cell_type": "markdown",
      "metadata": {
        "papermill": {
          "duration": 0.07221,
          "end_time": "2021-04-05T20:15:33.734891",
          "exception": false,
          "start_time": "2021-04-05T20:15:33.662681",
          "status": "completed"
        },
        "tags": [],
        "id": "atlantic-coordination"
      },
      "source": [
        "## Label Encoding"
      ],
      "id": "atlantic-coordination"
    },
    {
      "cell_type": "code",
      "metadata": {
        "execution": {
          "iopub.execute_input": "2021-04-05T20:15:33.861164Z",
          "iopub.status.busy": "2021-04-05T20:15:33.860337Z",
          "iopub.status.idle": "2021-04-05T20:15:34.076968Z",
          "shell.execute_reply": "2021-04-05T20:15:34.077852Z"
        },
        "papermill": {
          "duration": 0.281312,
          "end_time": "2021-04-05T20:15:34.078127",
          "exception": false,
          "start_time": "2021-04-05T20:15:33.796815",
          "status": "completed"
        },
        "tags": [],
        "id": "postal-bacteria"
      },
      "source": [
        "cols=['Gender', 'Married', 'Education', 'Self_Employed', 'Property_Area', 'Loan_Status', 'Dependents']\n",
        "le=LabelEncoder()\n",
        "for col in cols:\n",
        "    df[col]=le.fit_transform(df[col])"
      ],
      "id": "postal-bacteria",
      "execution_count": 128,
      "outputs": []
    },
    {
      "cell_type": "code",
      "metadata": {
        "execution": {
          "iopub.execute_input": "2021-04-05T20:15:34.201541Z",
          "iopub.status.busy": "2021-04-05T20:15:34.200504Z",
          "iopub.status.idle": "2021-04-05T20:15:34.218000Z",
          "shell.execute_reply": "2021-04-05T20:15:34.218577Z"
        },
        "papermill": {
          "duration": 0.076339,
          "end_time": "2021-04-05T20:15:34.218761",
          "exception": false,
          "start_time": "2021-04-05T20:15:34.142422",
          "status": "completed"
        },
        "tags": [],
        "id": "coated-pregnancy",
        "colab": {
          "base_uri": "https://localhost:8080/",
          "height": 203
        },
        "outputId": "be37ef36-5288-4b6e-935e-e84c7250288b"
      },
      "source": [
        "df.head()"
      ],
      "id": "coated-pregnancy",
      "execution_count": 129,
      "outputs": [
        {
          "output_type": "execute_result",
          "data": {
            "text/html": [
              "<div>\n",
              "<style scoped>\n",
              "    .dataframe tbody tr th:only-of-type {\n",
              "        vertical-align: middle;\n",
              "    }\n",
              "\n",
              "    .dataframe tbody tr th {\n",
              "        vertical-align: top;\n",
              "    }\n",
              "\n",
              "    .dataframe thead th {\n",
              "        text-align: right;\n",
              "    }\n",
              "</style>\n",
              "<table border=\"1\" class=\"dataframe\">\n",
              "  <thead>\n",
              "    <tr style=\"text-align: right;\">\n",
              "      <th></th>\n",
              "      <th>Gender</th>\n",
              "      <th>Married</th>\n",
              "      <th>Dependents</th>\n",
              "      <th>Education</th>\n",
              "      <th>Self_Employed</th>\n",
              "      <th>LoanAmount</th>\n",
              "      <th>Loan_Amount_Term</th>\n",
              "      <th>Credit_History</th>\n",
              "      <th>Property_Area</th>\n",
              "      <th>Loan_Status</th>\n",
              "      <th>Total_Income</th>\n",
              "    </tr>\n",
              "  </thead>\n",
              "  <tbody>\n",
              "    <tr>\n",
              "      <th>0</th>\n",
              "      <td>1</td>\n",
              "      <td>0</td>\n",
              "      <td>0</td>\n",
              "      <td>0</td>\n",
              "      <td>0</td>\n",
              "      <td>120.0</td>\n",
              "      <td>360.0</td>\n",
              "      <td>1.0</td>\n",
              "      <td>2</td>\n",
              "      <td>1</td>\n",
              "      <td>8.674026</td>\n",
              "    </tr>\n",
              "    <tr>\n",
              "      <th>1</th>\n",
              "      <td>1</td>\n",
              "      <td>1</td>\n",
              "      <td>1</td>\n",
              "      <td>0</td>\n",
              "      <td>0</td>\n",
              "      <td>128.0</td>\n",
              "      <td>360.0</td>\n",
              "      <td>1.0</td>\n",
              "      <td>0</td>\n",
              "      <td>0</td>\n",
              "      <td>8.714568</td>\n",
              "    </tr>\n",
              "    <tr>\n",
              "      <th>2</th>\n",
              "      <td>1</td>\n",
              "      <td>1</td>\n",
              "      <td>0</td>\n",
              "      <td>0</td>\n",
              "      <td>1</td>\n",
              "      <td>66.0</td>\n",
              "      <td>360.0</td>\n",
              "      <td>1.0</td>\n",
              "      <td>2</td>\n",
              "      <td>1</td>\n",
              "      <td>8.006368</td>\n",
              "    </tr>\n",
              "    <tr>\n",
              "      <th>3</th>\n",
              "      <td>1</td>\n",
              "      <td>1</td>\n",
              "      <td>0</td>\n",
              "      <td>1</td>\n",
              "      <td>0</td>\n",
              "      <td>120.0</td>\n",
              "      <td>360.0</td>\n",
              "      <td>1.0</td>\n",
              "      <td>2</td>\n",
              "      <td>1</td>\n",
              "      <td>8.505323</td>\n",
              "    </tr>\n",
              "    <tr>\n",
              "      <th>4</th>\n",
              "      <td>1</td>\n",
              "      <td>0</td>\n",
              "      <td>0</td>\n",
              "      <td>0</td>\n",
              "      <td>0</td>\n",
              "      <td>141.0</td>\n",
              "      <td>360.0</td>\n",
              "      <td>1.0</td>\n",
              "      <td>2</td>\n",
              "      <td>1</td>\n",
              "      <td>8.699515</td>\n",
              "    </tr>\n",
              "  </tbody>\n",
              "</table>\n",
              "</div>"
            ],
            "text/plain": [
              "   Gender  Married  Dependents  ...  Property_Area  Loan_Status  Total_Income\n",
              "0       1        0           0  ...              2            1      8.674026\n",
              "1       1        1           1  ...              0            0      8.714568\n",
              "2       1        1           0  ...              2            1      8.006368\n",
              "3       1        1           0  ...              2            1      8.505323\n",
              "4       1        0           0  ...              2            1      8.699515\n",
              "\n",
              "[5 rows x 11 columns]"
            ]
          },
          "metadata": {
            "tags": []
          },
          "execution_count": 129
        }
      ]
    },
    {
      "cell_type": "markdown",
      "metadata": {
        "papermill": {
          "duration": 0.055063,
          "end_time": "2021-04-05T20:15:34.328939",
          "exception": false,
          "start_time": "2021-04-05T20:15:34.273876",
          "status": "completed"
        },
        "tags": [],
        "id": "analyzed-olympus"
      },
      "source": [
        "## Algorithm Implementation "
      ],
      "id": "analyzed-olympus"
    },
    {
      "cell_type": "code",
      "metadata": {
        "execution": {
          "iopub.execute_input": "2021-04-05T20:15:34.447683Z",
          "iopub.status.busy": "2021-04-05T20:15:34.446564Z",
          "iopub.status.idle": "2021-04-05T20:15:34.452141Z",
          "shell.execute_reply": "2021-04-05T20:15:34.451569Z"
        },
        "papermill": {
          "duration": 0.067991,
          "end_time": "2021-04-05T20:15:34.452303",
          "exception": false,
          "start_time": "2021-04-05T20:15:34.384312",
          "status": "completed"
        },
        "tags": [],
        "id": "developmental-belize"
      },
      "source": [
        "X=df.drop(columns=['Loan_Status'],axis=1)\n",
        "y=df['Loan_Status']"
      ],
      "id": "developmental-belize",
      "execution_count": 130,
      "outputs": []
    },
    {
      "cell_type": "code",
      "metadata": {
        "execution": {
          "iopub.execute_input": "2021-04-05T20:15:34.572790Z",
          "iopub.status.busy": "2021-04-05T20:15:34.571945Z",
          "iopub.status.idle": "2021-04-05T20:15:34.653313Z",
          "shell.execute_reply": "2021-04-05T20:15:34.652636Z"
        },
        "papermill": {
          "duration": 0.142508,
          "end_time": "2021-04-05T20:15:34.653473",
          "exception": false,
          "start_time": "2021-04-05T20:15:34.510965",
          "status": "completed"
        },
        "tags": [],
        "id": "invalid-ceramic"
      },
      "source": [
        "X_train,x_test,y_train,y_test=train_test_split(X,y,test_size=0.2,random_state=42)"
      ],
      "id": "invalid-ceramic",
      "execution_count": 131,
      "outputs": []
    },
    {
      "cell_type": "code",
      "metadata": {
        "execution": {
          "iopub.execute_input": "2021-04-05T20:15:34.771485Z",
          "iopub.status.busy": "2021-04-05T20:15:34.770811Z",
          "iopub.status.idle": "2021-04-05T20:15:34.880308Z",
          "shell.execute_reply": "2021-04-05T20:15:34.880859Z"
        },
        "papermill": {
          "duration": 0.171526,
          "end_time": "2021-04-05T20:15:34.881073",
          "exception": false,
          "start_time": "2021-04-05T20:15:34.709547",
          "status": "completed"
        },
        "tags": [],
        "id": "isolated-pavilion"
      },
      "source": [
        "model=LogisticRegression()"
      ],
      "id": "isolated-pavilion",
      "execution_count": 132,
      "outputs": []
    },
    {
      "cell_type": "code",
      "metadata": {
        "execution": {
          "iopub.execute_input": "2021-04-05T20:15:34.996291Z",
          "iopub.status.busy": "2021-04-05T20:15:34.995587Z",
          "iopub.status.idle": "2021-04-05T20:15:35.040254Z",
          "shell.execute_reply": "2021-04-05T20:15:35.040999Z"
        },
        "papermill": {
          "duration": 0.104073,
          "end_time": "2021-04-05T20:15:35.041258",
          "exception": false,
          "start_time": "2021-04-05T20:15:34.937185",
          "status": "completed"
        },
        "tags": [],
        "id": "suited-admission",
        "colab": {
          "base_uri": "https://localhost:8080/"
        },
        "outputId": "1c484729-e149-4de3-a80c-e46d6654fbb7"
      },
      "source": [
        "model.fit(X_train,y_train)"
      ],
      "id": "suited-admission",
      "execution_count": 133,
      "outputs": [
        {
          "output_type": "stream",
          "text": [
            "/usr/local/lib/python3.7/dist-packages/sklearn/linear_model/_logistic.py:940: ConvergenceWarning: lbfgs failed to converge (status=1):\n",
            "STOP: TOTAL NO. of ITERATIONS REACHED LIMIT.\n",
            "\n",
            "Increase the number of iterations (max_iter) or scale the data as shown in:\n",
            "    https://scikit-learn.org/stable/modules/preprocessing.html\n",
            "Please also refer to the documentation for alternative solver options:\n",
            "    https://scikit-learn.org/stable/modules/linear_model.html#logistic-regression\n",
            "  extra_warning_msg=_LOGISTIC_SOLVER_CONVERGENCE_MSG)\n"
          ],
          "name": "stderr"
        },
        {
          "output_type": "execute_result",
          "data": {
            "text/plain": [
              "LogisticRegression(C=1.0, class_weight=None, dual=False, fit_intercept=True,\n",
              "                   intercept_scaling=1, l1_ratio=None, max_iter=100,\n",
              "                   multi_class='auto', n_jobs=None, penalty='l2',\n",
              "                   random_state=None, solver='lbfgs', tol=0.0001, verbose=0,\n",
              "                   warm_start=False)"
            ]
          },
          "metadata": {
            "tags": []
          },
          "execution_count": 133
        }
      ]
    },
    {
      "cell_type": "code",
      "metadata": {
        "execution": {
          "iopub.execute_input": "2021-04-05T20:15:35.159414Z",
          "iopub.status.busy": "2021-04-05T20:15:35.158706Z",
          "iopub.status.idle": "2021-04-05T20:15:35.166108Z",
          "shell.execute_reply": "2021-04-05T20:15:35.165323Z"
        },
        "papermill": {
          "duration": 0.067142,
          "end_time": "2021-04-05T20:15:35.166279",
          "exception": false,
          "start_time": "2021-04-05T20:15:35.099137",
          "status": "completed"
        },
        "tags": [],
        "id": "raising-syria"
      },
      "source": [
        "y_pred=model.predict(x_test)"
      ],
      "id": "raising-syria",
      "execution_count": 134,
      "outputs": []
    },
    {
      "cell_type": "code",
      "metadata": {
        "execution": {
          "iopub.execute_input": "2021-04-05T20:15:35.284666Z",
          "iopub.status.busy": "2021-04-05T20:15:35.283634Z",
          "iopub.status.idle": "2021-04-05T20:15:35.292274Z",
          "shell.execute_reply": "2021-04-05T20:15:35.292813Z"
        },
        "papermill": {
          "duration": 0.069824,
          "end_time": "2021-04-05T20:15:35.293027",
          "exception": false,
          "start_time": "2021-04-05T20:15:35.223203",
          "status": "completed"
        },
        "tags": [],
        "id": "sweet-tomorrow",
        "colab": {
          "base_uri": "https://localhost:8080/"
        },
        "outputId": "b9dca78a-6b46-4657-b06d-b9efe7904f9a"
      },
      "source": [
        "model.score(x_test,y_test)"
      ],
      "id": "sweet-tomorrow",
      "execution_count": 135,
      "outputs": [
        {
          "output_type": "execute_result",
          "data": {
            "text/plain": [
              "0.7886178861788617"
            ]
          },
          "metadata": {
            "tags": []
          },
          "execution_count": 135
        }
      ]
    },
    {
      "cell_type": "code",
      "metadata": {
        "execution": {
          "iopub.execute_input": "2021-04-05T20:15:35.414233Z",
          "iopub.status.busy": "2021-04-05T20:15:35.413514Z",
          "iopub.status.idle": "2021-04-05T20:15:35.585487Z",
          "shell.execute_reply": "2021-04-05T20:15:35.586115Z"
        },
        "papermill": {
          "duration": 0.234684,
          "end_time": "2021-04-05T20:15:35.586310",
          "exception": false,
          "start_time": "2021-04-05T20:15:35.351626",
          "status": "completed"
        },
        "tags": [],
        "id": "tough-colombia",
        "colab": {
          "base_uri": "https://localhost:8080/"
        },
        "outputId": "447e4c69-42a6-4c5d-98e7-867e2fe0fb14"
      },
      "source": [
        "cv_results=cross_val_score(model,X,y,cv=5)\n",
        "np.mean(cv_results)"
      ],
      "id": "tough-colombia",
      "execution_count": 136,
      "outputs": [
        {
          "output_type": "stream",
          "text": [
            "/usr/local/lib/python3.7/dist-packages/sklearn/linear_model/_logistic.py:940: ConvergenceWarning: lbfgs failed to converge (status=1):\n",
            "STOP: TOTAL NO. of ITERATIONS REACHED LIMIT.\n",
            "\n",
            "Increase the number of iterations (max_iter) or scale the data as shown in:\n",
            "    https://scikit-learn.org/stable/modules/preprocessing.html\n",
            "Please also refer to the documentation for alternative solver options:\n",
            "    https://scikit-learn.org/stable/modules/linear_model.html#logistic-regression\n",
            "  extra_warning_msg=_LOGISTIC_SOLVER_CONVERGENCE_MSG)\n",
            "/usr/local/lib/python3.7/dist-packages/sklearn/linear_model/_logistic.py:940: ConvergenceWarning: lbfgs failed to converge (status=1):\n",
            "STOP: TOTAL NO. of ITERATIONS REACHED LIMIT.\n",
            "\n",
            "Increase the number of iterations (max_iter) or scale the data as shown in:\n",
            "    https://scikit-learn.org/stable/modules/preprocessing.html\n",
            "Please also refer to the documentation for alternative solver options:\n",
            "    https://scikit-learn.org/stable/modules/linear_model.html#logistic-regression\n",
            "  extra_warning_msg=_LOGISTIC_SOLVER_CONVERGENCE_MSG)\n",
            "/usr/local/lib/python3.7/dist-packages/sklearn/linear_model/_logistic.py:940: ConvergenceWarning: lbfgs failed to converge (status=1):\n",
            "STOP: TOTAL NO. of ITERATIONS REACHED LIMIT.\n",
            "\n",
            "Increase the number of iterations (max_iter) or scale the data as shown in:\n",
            "    https://scikit-learn.org/stable/modules/preprocessing.html\n",
            "Please also refer to the documentation for alternative solver options:\n",
            "    https://scikit-learn.org/stable/modules/linear_model.html#logistic-regression\n",
            "  extra_warning_msg=_LOGISTIC_SOLVER_CONVERGENCE_MSG)\n"
          ],
          "name": "stderr"
        },
        {
          "output_type": "execute_result",
          "data": {
            "text/plain": [
              "0.8078368652538984"
            ]
          },
          "metadata": {
            "tags": []
          },
          "execution_count": 136
        }
      ]
    },
    {
      "cell_type": "markdown",
      "metadata": {
        "papermill": {
          "duration": 0.058205,
          "end_time": "2021-04-05T20:15:35.702690",
          "exception": false,
          "start_time": "2021-04-05T20:15:35.644485",
          "status": "completed"
        },
        "tags": [],
        "id": "tribal-limitation"
      },
      "source": [
        "## Decision Tree Classifier "
      ],
      "id": "tribal-limitation"
    },
    {
      "cell_type": "code",
      "metadata": {
        "execution": {
          "iopub.execute_input": "2021-04-05T20:15:36.063841Z",
          "iopub.status.busy": "2021-04-05T20:15:36.063127Z",
          "iopub.status.idle": "2021-04-05T20:15:36.070903Z",
          "shell.execute_reply": "2021-04-05T20:15:36.071487Z"
        },
        "papermill": {
          "duration": 0.069342,
          "end_time": "2021-04-05T20:15:36.071664",
          "exception": false,
          "start_time": "2021-04-05T20:15:36.002322",
          "status": "completed"
        },
        "tags": [],
        "id": "superior-barbados"
      },
      "source": [
        "X_train,x_test,y_train,y_test=train_test_split(X,y,test_size=0.2,stratify=y,random_state=1)"
      ],
      "id": "superior-barbados",
      "execution_count": 137,
      "outputs": []
    },
    {
      "cell_type": "code",
      "metadata": {
        "execution": {
          "iopub.execute_input": "2021-04-05T20:15:36.192287Z",
          "iopub.status.busy": "2021-04-05T20:15:36.191494Z",
          "iopub.status.idle": "2021-04-05T20:15:36.195545Z",
          "shell.execute_reply": "2021-04-05T20:15:36.196257Z"
        },
        "papermill": {
          "duration": 0.065745,
          "end_time": "2021-04-05T20:15:36.196447",
          "exception": false,
          "start_time": "2021-04-05T20:15:36.130702",
          "status": "completed"
        },
        "tags": [],
        "id": "imperial-boards"
      },
      "source": [
        "dt=DecisionTreeClassifier(max_depth=2,random_state=1)"
      ],
      "id": "imperial-boards",
      "execution_count": 138,
      "outputs": []
    },
    {
      "cell_type": "code",
      "metadata": {
        "execution": {
          "iopub.execute_input": "2021-04-05T20:15:36.318309Z",
          "iopub.status.busy": "2021-04-05T20:15:36.317570Z",
          "iopub.status.idle": "2021-04-05T20:15:36.328952Z",
          "shell.execute_reply": "2021-04-05T20:15:36.328376Z"
        },
        "papermill": {
          "duration": 0.074407,
          "end_time": "2021-04-05T20:15:36.329104",
          "exception": false,
          "start_time": "2021-04-05T20:15:36.254697",
          "status": "completed"
        },
        "tags": [],
        "id": "special-camel",
        "colab": {
          "base_uri": "https://localhost:8080/"
        },
        "outputId": "eb00aa5a-df68-4d99-89f3-316af02303a3"
      },
      "source": [
        "dt.fit(X_train,y_train)"
      ],
      "id": "special-camel",
      "execution_count": 139,
      "outputs": [
        {
          "output_type": "execute_result",
          "data": {
            "text/plain": [
              "DecisionTreeClassifier(ccp_alpha=0.0, class_weight=None, criterion='gini',\n",
              "                       max_depth=2, max_features=None, max_leaf_nodes=None,\n",
              "                       min_impurity_decrease=0.0, min_impurity_split=None,\n",
              "                       min_samples_leaf=1, min_samples_split=2,\n",
              "                       min_weight_fraction_leaf=0.0, presort='deprecated',\n",
              "                       random_state=1, splitter='best')"
            ]
          },
          "metadata": {
            "tags": []
          },
          "execution_count": 139
        }
      ]
    },
    {
      "cell_type": "code",
      "metadata": {
        "execution": {
          "iopub.execute_input": "2021-04-05T20:15:36.455161Z",
          "iopub.status.busy": "2021-04-05T20:15:36.454186Z",
          "iopub.status.idle": "2021-04-05T20:15:36.457726Z",
          "shell.execute_reply": "2021-04-05T20:15:36.457087Z"
        },
        "papermill": {
          "duration": 0.069932,
          "end_time": "2021-04-05T20:15:36.457864",
          "exception": false,
          "start_time": "2021-04-05T20:15:36.387932",
          "status": "completed"
        },
        "tags": [],
        "id": "incomplete-tomato"
      },
      "source": [
        "y_pred=dt.predict(x_test)"
      ],
      "id": "incomplete-tomato",
      "execution_count": 140,
      "outputs": []
    },
    {
      "cell_type": "code",
      "metadata": {
        "execution": {
          "iopub.execute_input": "2021-04-05T20:15:36.581603Z",
          "iopub.status.busy": "2021-04-05T20:15:36.580818Z",
          "iopub.status.idle": "2021-04-05T20:15:36.585474Z",
          "shell.execute_reply": "2021-04-05T20:15:36.584923Z"
        },
        "papermill": {
          "duration": 0.068961,
          "end_time": "2021-04-05T20:15:36.585615",
          "exception": false,
          "start_time": "2021-04-05T20:15:36.516654",
          "status": "completed"
        },
        "tags": [],
        "id": "three-dairy",
        "colab": {
          "base_uri": "https://localhost:8080/"
        },
        "outputId": "dfeba4a9-db11-4098-912d-7a073e062f69"
      },
      "source": [
        "accuracy_score(y_test,y_pred)"
      ],
      "id": "three-dairy",
      "execution_count": 141,
      "outputs": [
        {
          "output_type": "execute_result",
          "data": {
            "text/plain": [
              "0.8292682926829268"
            ]
          },
          "metadata": {
            "tags": []
          },
          "execution_count": 141
        }
      ]
    },
    {
      "cell_type": "code",
      "metadata": {
        "execution": {
          "iopub.execute_input": "2021-04-05T20:15:36.711048Z",
          "iopub.status.busy": "2021-04-05T20:15:36.710005Z",
          "iopub.status.idle": "2021-04-05T20:15:36.750071Z",
          "shell.execute_reply": "2021-04-05T20:15:36.750679Z"
        },
        "papermill": {
          "duration": 0.106023,
          "end_time": "2021-04-05T20:15:36.750858",
          "exception": false,
          "start_time": "2021-04-05T20:15:36.644835",
          "status": "completed"
        },
        "tags": [],
        "id": "charming-sector",
        "colab": {
          "base_uri": "https://localhost:8080/"
        },
        "outputId": "efb9f672-9389-4902-ccb3-a5e563a901b3"
      },
      "source": [
        "cv_results=cross_val_score(dt,X,y,cv=5)\n",
        "np.mean(cv_results)"
      ],
      "id": "charming-sector",
      "execution_count": 142,
      "outputs": [
        {
          "output_type": "execute_result",
          "data": {
            "text/plain": [
              "0.7997201119552179"
            ]
          },
          "metadata": {
            "tags": []
          },
          "execution_count": 142
        }
      ]
    }
  ]
}